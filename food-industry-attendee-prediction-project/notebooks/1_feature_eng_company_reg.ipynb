{
 "cells": [
  {
   "cell_type": "markdown",
   "metadata": {},
   "source": [
    "This will check the number of registrations per company, this will be used as a new feature.\n",
    "==============\n",
    "**Prepared by** : Grej - Jan. 29, 2019\n",
    "\n",
    "This is the first part of the process as the result of this will be used for the 2_data_prep.py"
   ]
  },
  {
   "cell_type": "code",
   "execution_count": 1,
   "metadata": {},
   "outputs": [],
   "source": [
    "import pandas as pd\n",
    "import numpy as np\n",
    "import os"
   ]
  },
  {
   "cell_type": "code",
   "execution_count": 2,
   "metadata": {},
   "outputs": [],
   "source": [
    "os.chdir(r'C:\\Users\\User\\Documents\\Data_Science_Projects\\food-expo-attendee-prediction-project')\n",
    "\n",
    "# encoding = latin-1 was used here due to the characters that are unreadable when using the standard utf-8\n",
    "gfm = pd.read_csv(r'.\\data\\gfm.csv', encoding='latin-1')\n",
    "afs = pd.read_csv(r'.\\data\\afs.csv', encoding='latin-1')\n",
    "gfd = pd.read_csv(r'.\\data\\glf.csv', encoding='latin-1')"
   ]
  },
  {
   "cell_type": "code",
   "execution_count": 3,
   "metadata": {},
   "outputs": [
    {
     "name": "stderr",
     "output_type": "stream",
     "text": [
      "C:\\Users\\User\\Anaconda3\\lib\\site-packages\\ipykernel_launcher.py:8: SettingWithCopyWarning: \n",
      "A value is trying to be set on a copy of a slice from a DataFrame.\n",
      "Try using .loc[row_indexer,col_indexer] = value instead\n",
      "\n",
      "See the caveats in the documentation: http://pandas.pydata.org/pandas-docs/stable/indexing.html#indexing-view-versus-copy\n",
      "  \n",
      "C:\\Users\\User\\Anaconda3\\lib\\site-packages\\ipykernel_launcher.py:10: SettingWithCopyWarning: \n",
      "A value is trying to be set on a copy of a slice from a DataFrame.\n",
      "Try using .loc[row_indexer,col_indexer] = value instead\n",
      "\n",
      "See the caveats in the documentation: http://pandas.pydata.org/pandas-docs/stable/indexing.html#indexing-view-versus-copy\n",
      "  # Remove the CWD from sys.path while we load stuff.\n"
     ]
    },
    {
     "data": {
      "text/plain": [
       "'gfm = company_reg_counts(gfm)\\nafs = company_reg_counts(afs)\\ngfd = company_reg_counts(gfd)'"
      ]
     },
     "execution_count": 3,
     "metadata": {},
     "output_type": "execute_result"
    }
   ],
   "source": [
    "# count the number of registrants per company - categories are combined company name + country, country + website and website only\n",
    "class createCompanyRegistrationCounts():\n",
    "    def __init__(self, data):\n",
    "        self.data = data\n",
    "    def company_reg_counts(self):\n",
    "        data = self.data\n",
    "        data = data[['10 Digit Card Number', 'Company Name', 'Country', 'Website']]\n",
    "        data['country_company'] = data[['Company Name', 'Country']].apply(lambda x: r''.join(x.astype(str)), axis=1).str.lower().str.replace(r' ', r'')\n",
    "        count_per_company = data[data['Company Name']!=' '].country_company.value_counts().rename_axis('x').reset_index(name='count_per_company')\n",
    "        data['country_website'] = data[['Website', 'Country']].apply(lambda x: r''.join(x.astype(str)), axis=1).str.lower().str.replace(r' ', r'')\n",
    "        count_per_comp_website = data[data['Website']!=' '].country_company.value_counts().rename_axis('y').reset_index(name='count_per_comp_website')\n",
    "        count_per_website = data[data['Website']!=' '].Website.value_counts().rename_axis('z').reset_index(name='count_per_website')\n",
    "        data = data.merge(count_per_company, left_on = 'country_company', right_on = 'x', how = 'left')\n",
    "        data = data.merge(count_per_comp_website, left_on = 'country_website', right_on = 'y', how = 'left')\n",
    "        data = data.merge(count_per_website, left_on = 'Website', right_on = 'z', how = 'left')\n",
    "        data = data[['10 Digit Card Number', 'count_per_company', 'count_per_comp_website', 'count_per_website']].fillna(1)\n",
    "        return data\n",
    "\n",
    "gfm = createCompanyRegistrationCounts(gfm).company_reg_counts()\n",
    "afs = createCompanyRegistrationCounts(afs).company_reg_counts()\n",
    "gfd = createCompanyRegistrationCounts(gfd).company_reg_counts()\n",
    "\n",
    "'''gfm = company_reg_counts(gfm)\n",
    "afs = company_reg_counts(afs)\n",
    "gfd = company_reg_counts(gfd)'''"
   ]
  },
  {
   "cell_type": "code",
   "execution_count": 4,
   "metadata": {},
   "outputs": [],
   "source": [
    "data = gfm.append(afs, ignore_index=True).append(gfd, ignore_index=True)"
   ]
  },
  {
   "cell_type": "code",
   "execution_count": 5,
   "metadata": {},
   "outputs": [],
   "source": [
    "data.to_pickle(r'.\\data\\output\\company_reg_count.pkl')"
   ]
  },
  {
   "cell_type": "code",
   "execution_count": null,
   "metadata": {},
   "outputs": [],
   "source": []
  }
 ],
 "metadata": {
  "kernelspec": {
   "display_name": "Python 3",
   "language": "python",
   "name": "python3"
  },
  "language_info": {
   "codemirror_mode": {
    "name": "ipython",
    "version": 3
   },
   "file_extension": ".py",
   "mimetype": "text/x-python",
   "name": "python",
   "nbconvert_exporter": "python",
   "pygments_lexer": "ipython3",
   "version": "3.5.6"
  }
 },
 "nbformat": 4,
 "nbformat_minor": 2
}
