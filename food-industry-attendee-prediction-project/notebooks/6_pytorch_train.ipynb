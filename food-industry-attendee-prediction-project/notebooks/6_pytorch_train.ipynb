{
 "cells": [
  {
   "cell_type": "markdown",
   "metadata": {},
   "source": [
    "Training a prediction model using Pytorch Deep Learning\n",
    "=======================================\n",
    "**Author:** `Grej Segura`\n"
   ]
  },
  {
   "cell_type": "code",
   "execution_count": 14,
   "metadata": {},
   "outputs": [],
   "source": [
    "from torch import nn, optim\n",
    "from torch.autograd import Variable\n",
    "import torch\n",
    "import torch.nn.functional as F\n",
    "import torch.utils.data\n",
    "import torch.optim as optim\n",
    "\n",
    "import numpy as np\n",
    "import pandas as pd\n",
    "from sklearn.model_selection import train_test_split\n",
    "from sklearn import metrics\n",
    "from sklearn import preprocessing\n",
    "from imblearn.over_sampling import SMOTE\n",
    "import os\n",
    "import gc\n",
    "\n",
    "import matplotlib.pyplot as plt\n",
    "%matplotlib inline\n",
    "\n",
    "## clear GPU memory to optimize capacity\n",
    "torch.cuda.empty_cache()"
   ]
  },
  {
   "cell_type": "code",
   "execution_count": 15,
   "metadata": {},
   "outputs": [],
   "source": [
    "os.chdir(r'C:\\Users\\User\\Documents\\Data_Science_Projects\\food-expo-attendee-prediction-project')\n",
    "\n",
    "# load the cleanData\n",
    "data = pd.read_pickle(r'.\\data\\output\\cleanData.pkl')\n",
    "data = data.drop(['10 Digit Card Number', 'show', 'latitude', 'longitude', 'count_per_comp_website', 'count_per_website'], axis=1)"
   ]
  },
  {
   "cell_type": "code",
   "execution_count": 16,
   "metadata": {},
   "outputs": [],
   "source": [
    "# set the device to GPU if Gpu exists else use the CPU\n",
    "device = torch.device(\"cuda\" if torch.cuda.is_available() else \"cpu\")"
   ]
  },
  {
   "cell_type": "markdown",
   "metadata": {},
   "source": [
    "##### Creating train and test dataset"
   ]
  },
  {
   "cell_type": "code",
   "execution_count": 17,
   "metadata": {},
   "outputs": [
    {
     "name": "stderr",
     "output_type": "stream",
     "text": [
      "C:\\Users\\User\\Anaconda3\\lib\\site-packages\\ipykernel_launcher.py:20: SettingWithCopyWarning: \n",
      "A value is trying to be set on a copy of a slice from a DataFrame.\n",
      "Try using .loc[row_indexer,col_indexer] = value instead\n",
      "\n",
      "See the caveats in the documentation: http://pandas.pydata.org/pandas-docs/stable/indexing.html#indexing-view-versus-copy\n",
      "C:\\Users\\User\\Anaconda3\\lib\\site-packages\\ipykernel_launcher.py:21: SettingWithCopyWarning: \n",
      "A value is trying to be set on a copy of a slice from a DataFrame.\n",
      "Try using .loc[row_indexer,col_indexer] = value instead\n",
      "\n",
      "See the caveats in the documentation: http://pandas.pydata.org/pandas-docs/stable/indexing.html#indexing-view-versus-copy\n"
     ]
    }
   ],
   "source": [
    "def preprocess_data(data):\n",
    "    data = data.rename(columns={'attended': 'labels'})\n",
    "    summary = data.describe().transpose()\n",
    "    cols = data[summary[summary['max']>1].reset_index()['index'].tolist()]\n",
    "    cols = cols.columns[1:]\n",
    "\n",
    "    # separate the labels/target variable\n",
    "    dataX = data.drop(['labels'], axis = 1)\n",
    "    dataY = data['labels']\n",
    "    \n",
    "    # Create train and test dataset\n",
    "    X_train, x_test, Y_train, y_test = train_test_split(dataX, dataY, random_state = 0)\n",
    "\n",
    "    gather_data = pd.DataFrame(columns = ['feature', 'mean', 'std'])\n",
    "    for i in cols:\n",
    "        ave = X_train[i].mean()\n",
    "        std = X_train[i].std()\n",
    "        appended = pd.DataFrame({'feature': i, 'mean': ave, 'std': std}, index = [0])\n",
    "        gather_data = gather_data.append(appended, ignore_index=True)\n",
    "        x_test[i] = (x_test[i]-ave)/std\n",
    "        X_train[i] = (X_train[i]-ave)/std\n",
    "    \n",
    "\n",
    "    # apply oversampling (SMOTE) since the data is very imbalanced\n",
    "    smote = SMOTE(random_state=1, ratio=1.0)\n",
    "    X_, Y_ = smote.fit_resample(X_train, Y_train)\n",
    "    return X_train, x_test, Y_train, y_test, gather_data\n",
    "\n",
    "X_train, x_test, Y_train, y_test, gather_data = preprocess_data(data)\n"
   ]
  },
  {
   "cell_type": "markdown",
   "metadata": {},
   "source": [
    "#### Convert the data to tensor and load to cuda memory"
   ]
  },
  {
   "cell_type": "code",
   "execution_count": 18,
   "metadata": {},
   "outputs": [],
   "source": [
    "def convert_to_tensor(X, Y, x_test, y_test):\n",
    "    # making sure the training will use gpu\n",
    "    torch.cuda.set_device(0)\n",
    "    torch.backends.cudnn.benchmark=True\n",
    "\n",
    "    # convert all dataset to cuda tensor to be able to use the GPU\n",
    "    dtype = torch.cuda.FloatTensor\n",
    "    X = np.array(X)\n",
    "    x_test = np.array(x_test)\n",
    "    Y = np.array(Y)\n",
    "    y_test = np.array(y_test)\n",
    "    X_train = torch.tensor(X, device=device).type(dtype)\n",
    "    x_test = torch.tensor(x_test, device=device).type(dtype)\n",
    "\n",
    "\n",
    "    Y_train = torch.tensor(Y, device=device).type(dtype)\n",
    "    y_test = torch.tensor(y_test, device=device).type(dtype)\n",
    "\n",
    "    Y_train = torch.unsqueeze(Y_train, 1)\n",
    "    y_test = torch.unsqueeze(y_test, 1)\n",
    "    return X_train, x_test, Y_train, y_test\n",
    "\n",
    "X_train, x_test, Y_train, y_test = convert_to_tensor(X_train, Y_train, x_test, y_test)"
   ]
  },
  {
   "cell_type": "code",
   "execution_count": 19,
   "metadata": {},
   "outputs": [
    {
     "name": "stdout",
     "output_type": "stream",
     "text": [
      "37543\n",
      "14293\n"
     ]
    }
   ],
   "source": [
    "print(len(Y_train[Y_train==1]))\n",
    "print(len(Y_train[Y_train==0]))"
   ]
  },
  {
   "cell_type": "markdown",
   "metadata": {},
   "source": [
    "#### Creating the model and training"
   ]
  },
  {
   "cell_type": "code",
   "execution_count": 20,
   "metadata": {},
   "outputs": [],
   "source": [
    "class Classifier(nn.Module):\n",
    "    def __init__(self):\n",
    "        super().__init__()\n",
    "        \n",
    "        self.fc1 = nn.Linear(272, 300)\n",
    "        self.relu1 = nn.ReLU()\n",
    "        self.dout = nn.Dropout(0.2)\n",
    "                \n",
    "        self.fc2 = nn.Linear(300, 200)\n",
    "        self.prelu = nn.PReLU(1)\n",
    "        self.dout = nn.Dropout(0.2)\n",
    "        \n",
    "        self.fc3 = nn.Linear(200, 100)\n",
    "        self.prelu = nn.PReLU(1)\n",
    "        self.dout = nn.Dropout(0.2)\n",
    "        \n",
    "        self.fc4 = nn.Linear(100, 50)\n",
    "        self.prelu = nn.PReLU(1)\n",
    "        \n",
    "        self.fc5 = nn.Linear(50, 20)\n",
    "        self.prelu = nn.PReLU(1)\n",
    "        \n",
    "        self.fc6 = nn.Linear(20, 5)\n",
    "        self.prelu = nn.PReLU(1)\n",
    "        \n",
    "        self.out = nn.Linear(5, 1)\n",
    "        self.out_act = nn.Sigmoid()\n",
    "        \n",
    "    def forward(self, input_):\n",
    "        a1 = self.fc1(input_)\n",
    "        h1 = self.relu1(a1)\n",
    "        dout = self.dout(h1)\n",
    "        \n",
    "        a2 = self.fc2(dout)\n",
    "        h2 = self.prelu(a2)\n",
    "        dout = self.dout(h2)\n",
    "        \n",
    "        a3 = self.fc3(dout)\n",
    "        h3 = self.prelu(a3)\n",
    "        dout = self.dout(h3)\n",
    "        \n",
    "        a4 = self.fc4(dout)\n",
    "        h4 = self.prelu(a4)\n",
    "        \n",
    "        a5 = self.fc5(h4)\n",
    "        h5 = self.prelu(a5)\n",
    "        \n",
    "        a6 = self.fc6(h5)\n",
    "        h6 = self.prelu(a6)\n",
    "        \n",
    "        a7 = self.out(h6)\n",
    "        \n",
    "        y = self.out_act(a7)\n",
    "        return y"
   ]
  },
  {
   "cell_type": "code",
   "execution_count": 21,
   "metadata": {},
   "outputs": [],
   "source": [
    "model = Classifier().cuda()\n",
    "criterion = nn.BCELoss() ## loss function for binary classification\n",
    "optimizer = optim.Adam(model.parameters(), lr=0.003) ## adam optimizer"
   ]
  },
  {
   "cell_type": "code",
   "execution_count": 22,
   "metadata": {},
   "outputs": [
    {
     "data": {
      "text/plain": [
       "'torch.cuda.empty_cache()\\ngc.collect()'"
      ]
     },
     "execution_count": 22,
     "metadata": {},
     "output_type": "execute_result"
    }
   ],
   "source": [
    "## clear GPU memory to optimize capacity\n",
    "'''torch.cuda.empty_cache()\n",
    "gc.collect()'''"
   ]
  },
  {
   "cell_type": "code",
   "execution_count": 23,
   "metadata": {},
   "outputs": [
    {
     "name": "stdout",
     "output_type": "stream",
     "text": [
      "epoch 0, loss 0.6600903272628784\n",
      "epoch 500, loss 0.28987056016921997\n",
      "epoch 1000, loss 0.19656921923160553\n",
      "epoch 1500, loss 0.16906554996967316\n",
      "epoch 2000, loss 0.16172799468040466\n",
      "epoch 2500, loss 0.15046623349189758\n",
      "epoch 3000, loss 0.14768414199352264\n",
      "epoch 3500, loss 0.1419115513563156\n",
      "epoch 4000, loss 0.14144596457481384\n",
      "epoch 4500, loss 0.13755133748054504\n",
      "epoch 5000, loss 0.13466542959213257\n",
      "epoch 5500, loss 0.1317596733570099\n",
      "epoch 6000, loss 0.13225147128105164\n",
      "early stopping at epoch 6000, model saved at epoch 5780, with loss 0.1280163824558258\n"
     ]
    },
    {
     "data": {
      "text/plain": [
       "[<matplotlib.lines.Line2D at 0x19080029470>]"
      ]
     },
     "execution_count": 23,
     "metadata": {},
     "output_type": "execute_result"
    },
    {
     "data": {
      "image/png": "[encoded data removed]",
      "text/plain": [
       "<Figure size 432x288 with 1 Axes>"
      ]
     },
     "metadata": {
      "needs_background": "light"
     },
     "output_type": "display_data"
    }
   ],
   "source": [
    "torch.backends.cudnn.benchmark=True\n",
    "dtype = torch.cuda.FloatTensor\n",
    "n_epochs = 20000\n",
    "e_losses = []\n",
    "former_loss = 9999999999999999999999999999\n",
    "\n",
    "for epoch in range(n_epochs):\n",
    "    \n",
    "    # forward pass\n",
    "    outputs = model.forward(X_train)\n",
    "\n",
    "    # calculate loss (MSE)\n",
    "    loss = criterion(outputs, Y_train)\n",
    "    e_losses.append(loss.data)\n",
    "\n",
    "    # compute gradients\n",
    "    loss.backward()\n",
    "    \n",
    "    # perform one step in the oposite direction to the gradient (update weights)\n",
    "    optimizer.step()\n",
    "    \n",
    "    # clear gradient values after weights are updated\n",
    "    optimizer.zero_grad()\n",
    "    \n",
    "    if loss <= min(e_losses):\n",
    "        torch.save(model.state_dict(), '.\\models\\model_pytorch.pt')\n",
    "        last_epoch = epoch\n",
    "        last_loss = loss.item()\n",
    "        \n",
    "    if epoch % 500 == 0:\n",
    "        print('epoch {}, loss {}'.format(epoch, loss.item()))\n",
    "        current_loss = loss.item()\n",
    "        if former_loss - current_loss < 0:\n",
    "            print('early stopping at epoch {}, model saved at epoch {}, with loss {}'.format(epoch, last_epoch, last_loss))\n",
    "            break\n",
    "        else:\n",
    "            former_loss = current_loss\n",
    "\n",
    "plt.style.use(['dark_background'])        \n",
    "plt.plot(e_losses)"
   ]
  },
  {
   "cell_type": "code",
   "execution_count": 24,
   "metadata": {},
   "outputs": [
    {
     "name": "stdout",
     "output_type": "stream",
     "text": [
      "\n",
      "\n",
      "accuracy is 0.9651979319391928\n",
      "precision is 0.9638898263284962\n",
      "recall is 0.9889992808246544\n",
      "auc is 0.9458394571058135\n",
      "f1-score is 0.976283129995793\n",
      "\n",
      "\n",
      "accuracy is 0.8009144047687945\n",
      "precision is 0.8313349320543565\n",
      "recall is 0.9109005494067999\n",
      "auc is 0.7095816306356033\n",
      "f1-score is 0.8693009118541033\n"
     ]
    }
   ],
   "source": [
    "def predict_new_data(x_test, y_test, model):\n",
    "    # switch to evaluation mode\n",
    "    model = model.eval()\n",
    "\n",
    "    with torch.no_grad():\n",
    "        y_pred = model.forward(x_test).cpu().numpy()\n",
    "\n",
    "    y_pred = y_pred >= 0.5\n",
    "    y_pred = y_pred.astype(int)\n",
    "    y_test = y_test.cpu().numpy()\n",
    "    accuracy = metrics.accuracy_score(y_pred, y_test).astype(str)\n",
    "    print('\\n\\naccuracy is ' + accuracy)\n",
    "\n",
    "    precision = metrics.precision_score(y_test, y_pred).astype(str)\n",
    "    print('precision is ' + precision)\n",
    "    recall = metrics.recall_score(y_test, y_pred).astype(str)\n",
    "    print('recall is ' + recall)\n",
    "    auc = metrics.roc_auc_score(np.asarray(y_test), y_pred).astype(str)\n",
    "    print('auc is ' + auc)\n",
    "\n",
    "    f1 = 2*((precision.astype(np.float64)*recall.astype(np.float64))/(precision.astype(np.float64)+recall.astype(np.float64)))\n",
    "    print('f1-score is ' + f1.astype(str))\n",
    "    \n",
    "    return y_pred\n",
    "\n",
    "y_pred_train = predict_new_data(X_train, Y_train, model)\n",
    "y_pred_test = predict_new_data(x_test, y_test, model)"
   ]
  },
  {
   "cell_type": "code",
   "execution_count": 25,
   "metadata": {},
   "outputs": [],
   "source": [
    "## save the model\n",
    "torch.save(model.state_dict(), r'.\\models\\pytorch_model.pt')"
   ]
  },
  {
   "cell_type": "code",
   "execution_count": 26,
   "metadata": {},
   "outputs": [
    {
     "data": {
      "text/plain": [
       "44"
      ]
     },
     "execution_count": 26,
     "metadata": {},
     "output_type": "execute_result"
    }
   ],
   "source": [
    "## clear GPU memory to optimize capacity\n",
    "torch.cuda.empty_cache()\n",
    "del X_train, Y_train, x_test, y_test\n",
    "gc.collect()"
   ]
  },
  {
   "cell_type": "code",
   "execution_count": null,
   "metadata": {},
   "outputs": [],
   "source": []
  }
 ],
 "metadata": {
  "kernelspec": {
   "display_name": "Python 3",
   "language": "python",
   "name": "python3"
  },
  "language_info": {
   "codemirror_mode": {
    "name": "ipython",
    "version": 3
   },
   "file_extension": ".py",
   "mimetype": "text/x-python",
   "name": "python",
   "nbconvert_exporter": "python",
   "pygments_lexer": "ipython3",
   "version": "3.5.6"
  }
 },
 "nbformat": 4,
 "nbformat_minor": 2
}
