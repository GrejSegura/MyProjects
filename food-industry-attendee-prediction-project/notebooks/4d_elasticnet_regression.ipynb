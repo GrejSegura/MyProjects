{
 "cells": [
  {
   "cell_type": "markdown",
   "metadata": {},
   "source": [
    "Training the model using boosting\n",
    "============="
   ]
  },
  {
   "cell_type": "code",
   "execution_count": 1,
   "metadata": {},
   "outputs": [],
   "source": [
    "\n",
    "import random\n",
    "import numpy as np\n",
    "import pandas as pd\n",
    "import os\n",
    "from sklearn import preprocessing\n",
    "from sklearn.model_selection import train_test_split\n",
    "from sklearn import metrics\n",
    "from sklearn.model_selection import GridSearchCV\n",
    "from imblearn.over_sampling import SMOTE\n",
    "from sklearn.linear_model import ElasticNet\n",
    "import gc\n",
    "random.seed(23)\n",
    "\n",
    "## set the directory\n",
    "os.chdir(r'C:\\Users\\User\\Documents\\Data_Science_Projects\\food-expo-attendee-prediction-project')\n",
    "\n",
    "# load the cleanData\n",
    "data = pd.read_pickle(r'.\\data\\output\\cleanData.pkl')\n",
    "data = data.drop(['10 Digit Card Number', 'show', 'latitude', 'longitude', 'count_per_comp_website'], axis=1)"
   ]
  },
  {
   "cell_type": "markdown",
   "metadata": {},
   "source": [
    "#### Scale the numerical variables and Split data into train and test"
   ]
  },
  {
   "cell_type": "code",
   "execution_count": 2,
   "metadata": {},
   "outputs": [
    {
     "name": "stderr",
     "output_type": "stream",
     "text": [
      "C:\\Users\\User\\Anaconda3\\lib\\site-packages\\ipykernel_launcher.py:20: SettingWithCopyWarning: \n",
      "A value is trying to be set on a copy of a slice from a DataFrame.\n",
      "Try using .loc[row_indexer,col_indexer] = value instead\n",
      "\n",
      "See the caveats in the documentation: http://pandas.pydata.org/pandas-docs/stable/indexing.html#indexing-view-versus-copy\n",
      "C:\\Users\\User\\Anaconda3\\lib\\site-packages\\ipykernel_launcher.py:21: SettingWithCopyWarning: \n",
      "A value is trying to be set on a copy of a slice from a DataFrame.\n",
      "Try using .loc[row_indexer,col_indexer] = value instead\n",
      "\n",
      "See the caveats in the documentation: http://pandas.pydata.org/pandas-docs/stable/indexing.html#indexing-view-versus-copy\n"
     ]
    }
   ],
   "source": [
    "def preprocess_data(data):\n",
    "    data = data.rename(columns={'attended': 'labels'})\n",
    "    summary = data.describe().transpose()\n",
    "    cols = data[summary[summary['max']>1].reset_index()['index'].tolist()]\n",
    "    cols = cols.columns[1:]\n",
    "\n",
    "    # separate the labels/target variable\n",
    "    dataX = data.drop(['labels'], axis = 1)\n",
    "    dataY = data['labels']\n",
    "    \n",
    "    # Create train and test dataset\n",
    "    X_train, x_test, Y_train, y_test = train_test_split(dataX, dataY, random_state = 0)\n",
    "\n",
    "    gather_data = pd.DataFrame(columns = ['feature', 'mean', 'std'])\n",
    "    for i in cols:\n",
    "        ave = X_train[i].mean()\n",
    "        std = X_train[i].std()\n",
    "        appended = pd.DataFrame({'feature': i, 'mean': ave, 'std': std}, index = [0])\n",
    "        gather_data = gather_data.append(appended, ignore_index=True)\n",
    "        x_test[i] = (x_test[i]-ave)/std\n",
    "        X_train[i] = (X_train[i]-ave)/std\n",
    "    \n",
    "    # First, scale the Data - only those numerical/non-categorical\n",
    "    x_test = np.array(x_test)\n",
    "    y_test = np.array(y_test)\n",
    "    return X_train, x_test, Y_train, y_test, gather_data\n",
    "\n",
    "X_train, x_test, Y_train, y_test, gather_data = preprocess_data(data)"
   ]
  },
  {
   "cell_type": "code",
   "execution_count": 3,
   "metadata": {},
   "outputs": [
    {
     "data": {
      "text/html": [
       "<div>\n",
       "<style scoped>\n",
       "    .dataframe tbody tr th:only-of-type {\n",
       "        vertical-align: middle;\n",
       "    }\n",
       "\n",
       "    .dataframe tbody tr th {\n",
       "        vertical-align: top;\n",
       "    }\n",
       "\n",
       "    .dataframe thead th {\n",
       "        text-align: right;\n",
       "    }\n",
       "</style>\n",
       "<table border=\"1\" class=\"dataframe\">\n",
       "  <thead>\n",
       "    <tr style=\"text-align: right;\">\n",
       "      <th></th>\n",
       "      <th>feature</th>\n",
       "      <th>mean</th>\n",
       "      <th>std</th>\n",
       "    </tr>\n",
       "  </thead>\n",
       "  <tbody>\n",
       "    <tr>\n",
       "      <th>0</th>\n",
       "      <td>weeks_to_go</td>\n",
       "      <td>1.786095</td>\n",
       "      <td>1.366257</td>\n",
       "    </tr>\n",
       "    <tr>\n",
       "      <th>1</th>\n",
       "      <td>distance</td>\n",
       "      <td>1784.144408</td>\n",
       "      <td>2617.665396</td>\n",
       "    </tr>\n",
       "    <tr>\n",
       "      <th>2</th>\n",
       "      <td>count_per_company</td>\n",
       "      <td>4.880045</td>\n",
       "      <td>10.410772</td>\n",
       "    </tr>\n",
       "    <tr>\n",
       "      <th>3</th>\n",
       "      <td>count_per_website</td>\n",
       "      <td>1.000116</td>\n",
       "      <td>0.010758</td>\n",
       "    </tr>\n",
       "  </tbody>\n",
       "</table>\n",
       "</div>"
      ],
      "text/plain": [
       "             feature         mean          std\n",
       "0        weeks_to_go     1.786095     1.366257\n",
       "1           distance  1784.144408  2617.665396\n",
       "2  count_per_company     4.880045    10.410772\n",
       "3  count_per_website     1.000116     0.010758"
      ]
     },
     "execution_count": 3,
     "metadata": {},
     "output_type": "execute_result"
    }
   ],
   "source": [
    "gather_data"
   ]
  },
  {
   "cell_type": "markdown",
   "metadata": {},
   "source": [
    "#### Upsample to cure the imbalance bias"
   ]
  },
  {
   "cell_type": "code",
   "execution_count": 4,
   "metadata": {},
   "outputs": [],
   "source": [
    "def upsample_data(train_data, label):\n",
    "    # apply oversampling (SMOTE) since the data is very imbalanced\n",
    "    smote = SMOTE(random_state=1, ratio=1.0)\n",
    "    X_train, Y_train = smote.fit_resample(train_data, label)\n",
    "    return X_train, Y_train\n",
    "\n",
    "X_train, Y_train = upsample_data(X_train, Y_train)"
   ]
  },
  {
   "cell_type": "code",
   "execution_count": 5,
   "metadata": {},
   "outputs": [
    {
     "name": "stdout",
     "output_type": "stream",
     "text": [
      "37543\n",
      "37543\n"
     ]
    }
   ],
   "source": [
    "print(len(Y_train[Y_train==1]))\n",
    "print(len(Y_train[Y_train==0]))"
   ]
  },
  {
   "cell_type": "markdown",
   "metadata": {},
   "source": [
    "#### Tune the model by finding the best combination of parameters\n",
    "This training will be using a 10-fold cross validation evaluation"
   ]
  },
  {
   "cell_type": "code",
   "execution_count": 11,
   "metadata": {},
   "outputs": [
    {
     "name": "stdout",
     "output_type": "stream",
     "text": [
      "\n",
      "The best parameters are  {'max_iter': 10, 'l1_ratio': 0.1, 'alpha': 0.0001}\n",
      "\n",
      "The best score is  0.10440206451163696\n"
     ]
    },
    {
     "name": "stderr",
     "output_type": "stream",
     "text": [
      "C:\\Users\\User\\Anaconda3\\lib\\site-packages\\sklearn\\linear_model\\coordinate_descent.py:491: ConvergenceWarning: Objective did not converge. You might want to increase the number of iterations. Fitting data with very small alpha may cause precision problems.\n",
      "  ConvergenceWarning)\n"
     ]
    }
   ],
   "source": [
    "def grid_search(X_train, Y_train):\n",
    "    model = ElasticNet()\n",
    "\n",
    "    parametersGrid = {\"max_iter\": [1, 5, 10],\n",
    "                      \"alpha\": [0.0001, 0.001, 0.01, 0.1, 1, 10, 100],\n",
    "                      \"l1_ratio\": np.arange(0.0, 1.0, 0.1)}\n",
    "    grid = GridSearchCV(model, parametersGrid, cv=10, n_jobs=6) ## 10-fold cross-validation\n",
    "    grid.fit(X_train, Y_train)\n",
    "    print ('\\nThe best parameters are ', grid.best_params_)\n",
    "    print('\\nThe best score is ', grid.best_score_)\n",
    "    return grid\n",
    "\n",
    "grid = grid_search(X_train, Y_train)"
   ]
  },
  {
   "cell_type": "code",
   "execution_count": null,
   "metadata": {},
   "outputs": [],
   "source": [
    "data.info()"
   ]
  },
  {
   "cell_type": "markdown",
   "metadata": {},
   "source": [
    "#### The best parameters :\n",
    "        The best parameters are  {'num_leaves': 22, 'lambda_l2': 0.1, 'min_data_in_leaf': 18, 'learning_rate': 0.1, 'num_boost_round': 2000, 'lambda_l1': 0, 'sub_feature': 0.7, 'reg_alpha': 0.1}"
   ]
  },
  {
   "cell_type": "code",
   "execution_count": null,
   "metadata": {},
   "outputs": [],
   "source": []
  }
 ],
 "metadata": {
  "kernelspec": {
   "display_name": "Python 3",
   "language": "python",
   "name": "python3"
  },
  "language_info": {
   "codemirror_mode": {
    "name": "ipython",
    "version": 3
   },
   "file_extension": ".py",
   "mimetype": "text/x-python",
   "name": "python",
   "nbconvert_exporter": "python",
   "pygments_lexer": "ipython3",
   "version": "3.5.6"
  }
 },
 "nbformat": 4,
 "nbformat_minor": 2
}
