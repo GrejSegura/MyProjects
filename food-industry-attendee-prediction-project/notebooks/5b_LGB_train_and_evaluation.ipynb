{
 "cells": [
  {
   "cell_type": "markdown",
   "metadata": {},
   "source": [
    "Training a Light GBM model\n",
    "=================\n",
    "**Author:** `Grej Segura`"
   ]
  },
  {
   "cell_type": "code",
   "execution_count": 1,
   "metadata": {},
   "outputs": [],
   "source": [
    "\n",
    "import random\n",
    "import numpy as np\n",
    "import pandas as pd\n",
    "import os\n",
    "from sklearn.model_selection import train_test_split\n",
    "from sklearn import metrics\n",
    "import lightgbm as lgb\n",
    "from sklearn import preprocessing\n",
    "from imblearn.over_sampling import SMOTE\n",
    "import pickle\n",
    "import gc\n",
    "random.seed(23)\n",
    "\n",
    "## set the directory\n",
    "os.chdir(r'C:\\Users\\User\\Documents\\Data_Science_Projects\\food-expo-attendee-prediction-project')\n",
    "\n",
    "# load the cleanData\n",
    "data = pd.read_pickle(r'.\\data\\output\\cleanData.pkl')\n",
    "data = data.drop(['10 Digit Card Number', 'show', 'latitude', 'longitude', 'count_per_comp_website', 'count_per_website'], axis=1)"
   ]
  },
  {
   "cell_type": "code",
   "execution_count": 2,
   "metadata": {},
   "outputs": [
    {
     "data": {
      "text/plain": [
       "Index(['with_website', 'days_to_go', 'weeks_to_go', 'distance', 'arabic_page',\n",
       "       'armed_forces_police', 'attended', 'bakery', 'bar_cafe_restaurant',\n",
       "       'c_level_president_chairman',\n",
       "       ...\n",
       "       'region_1_Western Africa', 'region_1_Western Asia',\n",
       "       'region_1_Western Europe', 'region_2_Africa', 'region_2_Americas',\n",
       "       'region_2_Australia-Asia', 'region_2_Europe', 'region_2_ME GCC',\n",
       "       'region_2_ME Non-GCC', 'count_per_company'],\n",
       "      dtype='object', length=273)"
      ]
     },
     "execution_count": 2,
     "metadata": {},
     "output_type": "execute_result"
    }
   ],
   "source": [
    "data.columns"
   ]
  },
  {
   "cell_type": "code",
   "execution_count": 3,
   "metadata": {},
   "outputs": [
    {
     "name": "stderr",
     "output_type": "stream",
     "text": [
      "C:\\Users\\User\\Anaconda3\\lib\\site-packages\\ipykernel_launcher.py:20: SettingWithCopyWarning: \n",
      "A value is trying to be set on a copy of a slice from a DataFrame.\n",
      "Try using .loc[row_indexer,col_indexer] = value instead\n",
      "\n",
      "See the caveats in the documentation: http://pandas.pydata.org/pandas-docs/stable/indexing.html#indexing-view-versus-copy\n",
      "C:\\Users\\User\\Anaconda3\\lib\\site-packages\\ipykernel_launcher.py:21: SettingWithCopyWarning: \n",
      "A value is trying to be set on a copy of a slice from a DataFrame.\n",
      "Try using .loc[row_indexer,col_indexer] = value instead\n",
      "\n",
      "See the caveats in the documentation: http://pandas.pydata.org/pandas-docs/stable/indexing.html#indexing-view-versus-copy\n"
     ]
    },
    {
     "data": {
      "text/plain": [
       "14"
      ]
     },
     "execution_count": 3,
     "metadata": {},
     "output_type": "execute_result"
    }
   ],
   "source": [
    "def preprocess_data(data):\n",
    "    data = data.rename(columns={'attended': 'labels'})\n",
    "    summary = data.describe().transpose()\n",
    "    cols = data[summary[summary['max']>1].reset_index()['index'].tolist()]\n",
    "    cols = cols.columns[1:]\n",
    "\n",
    "    # separate the labels/target variable\n",
    "    dataX = data.drop(['labels'], axis = 1)\n",
    "    dataY = data['labels']\n",
    "\n",
    "    # Create train and test dataset\n",
    "    X_train, x_test, Y_train, y_test = train_test_split(dataX, dataY, random_state = 0)\n",
    "\n",
    "    gather_data = pd.DataFrame(columns = ['feature', 'mean', 'std'])\n",
    "    for i in cols:\n",
    "        ave = X_train[i].mean()\n",
    "        std = X_train[i].std()\n",
    "        appended = pd.DataFrame({'feature': i, 'mean': ave, 'std': std}, index = [0])\n",
    "        gather_data = gather_data.append(appended, ignore_index=True)\n",
    "        x_test[i] = (x_test[i]-ave)/std\n",
    "        X_train[i] = (X_train[i]-ave)/std\n",
    "\n",
    "    # First, scale the Data - only those numerical/non-categorical\n",
    "    x_test = np.array(x_test)\n",
    "    y_test = np.array(y_test)\n",
    "    return X_train, x_test, Y_train, y_test, gather_data\n",
    "\n",
    "X_train, x_test, Y_train, y_test, gather_data = preprocess_data(data)\n",
    "gather_data.to_csv(r'.\\data\\output\\mean_std_scaler.csv', index=False)\n",
    "gc.collect()\n"
   ]
  },
  {
   "cell_type": "code",
   "execution_count": 4,
   "metadata": {},
   "outputs": [
    {
     "data": {
      "text/plain": [
       "array([[ 0.        , 26.        ,  1.62041659, ...,  1.        ,\n",
       "         0.        , -0.37269518],\n",
       "       [ 0.        ,  1.        , -1.30729043, ...,  1.        ,\n",
       "         0.        , -0.37269518],\n",
       "       [ 0.        , 18.        ,  0.88848984, ...,  0.        ,\n",
       "         0.        , -0.18058648],\n",
       "       ...,\n",
       "       [ 0.        , 41.        ,  3.0842701 , ...,  0.        ,\n",
       "         0.        , -0.37269518],\n",
       "       [ 0.        , 39.        ,  3.0842701 , ...,  0.        ,\n",
       "         1.        , -0.27664083],\n",
       "       [ 0.        , 13.        ,  0.15656308, ...,  1.        ,\n",
       "         0.        , -0.37269518]])"
      ]
     },
     "execution_count": 4,
     "metadata": {},
     "output_type": "execute_result"
    }
   ],
   "source": [
    "x_test"
   ]
  },
  {
   "cell_type": "code",
   "execution_count": 5,
   "metadata": {},
   "outputs": [],
   "source": [
    "# clear memory\n",
    "gc.collect()\n",
    "\n",
    "def upsample_data(train_data, label):\n",
    "    # apply oversampling (SMOTE) since the data is very imbalanced\n",
    "    smote = SMOTE(random_state=1, ratio=1.0)\n",
    "    X_train, Y_train = smote.fit_resample(train_data, label)\n",
    "    return X_train, Y_train\n",
    "\n",
    "X_train, Y_train = upsample_data(X_train, Y_train)"
   ]
  },
  {
   "cell_type": "code",
   "execution_count": 6,
   "metadata": {},
   "outputs": [
    {
     "name": "stdout",
     "output_type": "stream",
     "text": [
      "37543\n",
      "37543\n"
     ]
    }
   ],
   "source": [
    "print(len(Y_train[Y_train==1]))\n",
    "print(len(Y_train[Y_train==0]))"
   ]
  },
  {
   "cell_type": "code",
   "execution_count": 7,
   "metadata": {},
   "outputs": [],
   "source": [
    "def train_model(X_train, Y_train):\n",
    "    d_train = lgb.Dataset(X_train, label=Y_train)\n",
    "    params = {}\n",
    "    params['learning_rate'] = 0.1\n",
    "    params['boosting_type'] = 'gbdt'\n",
    "    params['objective'] = 'binary'\n",
    "    params['metric'] = 'binary_logloss'\n",
    "    params['sub_feature'] = 0.7\n",
    "    params['num_leaves'] = 24\n",
    "    params['min_data'] = 22\n",
    "    params['lambda_l1'] = 0\n",
    "    params['lambda_l2'] = 0.5\n",
    "    params['reg_alpha'] = 0.1\n",
    "    model = lgb.train(params, d_train, 3000)\n",
    "    return model, params\n",
    "\n",
    "model, parameters = train_model(X_train, Y_train)"
   ]
  },
  {
   "cell_type": "code",
   "execution_count": 8,
   "metadata": {},
   "outputs": [
    {
     "name": "stdout",
     "output_type": "stream",
     "text": [
      "\n",
      "\n",
      "\n",
      "The following are metrices for  TRAIN  data\n",
      "\n",
      "ACCURACY is 0.9241802732866313\n",
      "\n",
      " CONFUSION MATRIX:\n",
      " true         0.0    1.0\n",
      "predicted              \n",
      "0.0        32286    436\n",
      "1.0         5257  37107\n",
      "\n",
      " TRAIN DATA PRECISION 0.8759087904824852\n",
      "\n",
      " TRAIN DATA RECALL 0.9883866499746957\n",
      "\n",
      "\n",
      "\n",
      "The following are metrices for  TEST  data\n",
      "\n",
      "ACCURACY is 0.8302563805775797\n",
      "\n",
      " CONFUSION MATRIX:\n",
      " true        0.0    1.0\n",
      "predicted             \n",
      "0.0        2331    544\n",
      "1.0        2389  12015\n",
      "\n",
      " TEST DATA PRECISION 0.8341432935295752\n",
      "\n",
      " TEST DATA RECALL 0.9566844493988375\n"
     ]
    }
   ],
   "source": [
    "def predict_data(X, Y, data_type):\n",
    "    ## predicting test data\n",
    "    y_pred = model.predict(X)\n",
    "    for i in range(len(X)):\n",
    "        if y_pred[i]>=.5:       # setting threshold to .5\n",
    "           y_pred[i]=1\n",
    "        else:  \n",
    "           y_pred[i]=0\n",
    "\n",
    "    #print accuracy_score(y_test, predicted) for test data\n",
    "    accuracy = metrics.accuracy_score(y_pred, Y)\n",
    "    print('\\n\\n\\nThe following are metrices for ', data_type, ' data')\n",
    "    print('\\nACCURACY is ' + accuracy.astype(str))\n",
    "    preds = pd.DataFrame({'true': Y, 'predicted': y_pred})\n",
    "    confusion = pd.crosstab(preds['predicted'], preds['true'])\n",
    "    print('\\n CONFUSION MATRIX:\\n', confusion)\n",
    "    precision = metrics.precision_score(Y, y_pred)\n",
    "    print('\\n', data_type ,'DATA PRECISION ' + precision.astype(str))\n",
    "    recall = metrics.recall_score(Y, y_pred)\n",
    "    print('\\n', data_type ,'DATA RECALL ' + recall.astype(str))\n",
    "    return y_pred, accuracy, precision, recall\n",
    "\n",
    "y_pred_train,_,_,_ = predict_data(X_train, Y_train, data_type='TRAIN')\n",
    "y_pred_test, accuracy, precision, recall = predict_data(x_test, y_test, data_type='TEST')\n",
    "## save the model - this will be used in the deployment part to generate new predictions\n",
    "pickle.dump(model, open(r'.\\models\\lightGBMmodel.sav', 'wb'))"
   ]
  },
  {
   "cell_type": "code",
   "execution_count": 9,
   "metadata": {},
   "outputs": [
    {
     "name": "stdout",
     "output_type": "stream",
     "text": [
      "<class 'pandas.core.frame.DataFrame'>\n",
      "Int64Index: 69115 entries, 0 to 69114\n",
      "Columns: 273 entries, with_website to count_per_company\n",
      "dtypes: float64(48), int64(1), uint8(224)\n",
      "memory usage: 41.1 MB\n"
     ]
    }
   ],
   "source": [
    "data.info()"
   ]
  },
  {
   "cell_type": "code",
   "execution_count": 10,
   "metadata": {},
   "outputs": [
    {
     "data": {
      "text/plain": [
       "Index(['with_website', 'days_to_go', 'weeks_to_go', 'distance', 'arabic_page',\n",
       "       'armed_forces_police', 'attended', 'bakery', 'bar_cafe_restaurant',\n",
       "       'c_level_president_chairman',\n",
       "       ...\n",
       "       'region_1_Western Africa', 'region_1_Western Asia',\n",
       "       'region_1_Western Europe', 'region_2_Africa', 'region_2_Americas',\n",
       "       'region_2_Australia-Asia', 'region_2_Europe', 'region_2_ME GCC',\n",
       "       'region_2_ME Non-GCC', 'count_per_company'],\n",
       "      dtype='object', length=273)"
      ]
     },
     "execution_count": 10,
     "metadata": {},
     "output_type": "execute_result"
    }
   ],
   "source": [
    "data.columns"
   ]
  },
  {
   "cell_type": "code",
   "execution_count": 11,
   "metadata": {},
   "outputs": [
    {
     "data": {
      "text/plain": [
       "273"
      ]
     },
     "execution_count": 11,
     "metadata": {},
     "output_type": "execute_result"
    }
   ],
   "source": [
    "len(data.columns)"
   ]
  },
  {
   "cell_type": "code",
   "execution_count": 12,
   "metadata": {},
   "outputs": [
    {
     "name": "stdout",
     "output_type": "stream",
     "text": [
      "        date_time columns columns_count parameters accuracy precision recall\n",
      "0  2/11/2019 0:00       a             a          a        a         a      a\n"
     ]
    }
   ],
   "source": [
    "def log_training(data, parameters, accuracy, precision, recall):\n",
    "    from datetime import datetime\n",
    "    log = pd.read_csv(r'.\\data\\training_log.csv')\n",
    "    length =  len(log)+1\n",
    "    log['date_time'][length] = datetime.now()\n",
    "    log['parameters'][length] = parameters\n",
    "    log['columns'][length] = data.columns\n",
    "    log['columns_count'][length] = len(data.columns)\n",
    "    log['accuracy'][length] = accuracy\n",
    "    log['precision'][length] = precision\n",
    "    log['recall'][length] = recall\n",
    "    log.to_csv(r'.\\data\\training_log.csv', index=False)\n",
    "    print(log)\n",
    "    return log\n",
    "log = log_training(data, parameters, accuracy, precision, recall)"
   ]
  },
  {
   "cell_type": "code",
   "execution_count": 13,
   "metadata": {},
   "outputs": [
    {
     "data": {
      "text/plain": [
       "datetime.datetime(2019, 2, 24, 16, 55, 3, 336864)"
      ]
     },
     "execution_count": 13,
     "metadata": {},
     "output_type": "execute_result"
    }
   ],
   "source": [
    "from datetime import datetime\n",
    "datetime.today()"
   ]
  },
  {
   "cell_type": "code",
   "execution_count": null,
   "metadata": {},
   "outputs": [],
   "source": []
  }
 ],
 "metadata": {
  "kernelspec": {
   "display_name": "Python 3",
   "language": "python",
   "name": "python3"
  },
  "language_info": {
   "codemirror_mode": {
    "name": "ipython",
    "version": 3
   },
   "file_extension": ".py",
   "mimetype": "text/x-python",
   "name": "python",
   "nbconvert_exporter": "python",
   "pygments_lexer": "ipython3",
   "version": "3.5.6"
  }
 },
 "nbformat": 4,
 "nbformat_minor": 2
}
