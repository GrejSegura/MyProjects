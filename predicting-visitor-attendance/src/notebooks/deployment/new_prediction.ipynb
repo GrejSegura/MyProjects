{
 "cells": [
  {
   "cell_type": "code",
   "execution_count": 1,
   "metadata": {},
   "outputs": [],
   "source": [
    "# -*- coding: utf-8 -*-\n",
    "\n",
    "import random\n",
    "import numpy as np\n",
    "import pandas as pd\n",
    "import os\n",
    "from sklearn.model_selection import train_test_split\n",
    "from sklearn import metrics\n",
    "from sklearn.ensemble import GradientBoostingClassifier\n",
    "import pickle\n",
    "random.seed(23)\n",
    "\n",
    "## set the directory\n",
    "os.chdir(r'C:\\Users\\Grejell\\AnacondaProjects\\GulfoodDataMining')\n",
    "\n",
    "## load data for prediction\n",
    "forPredictionData = pd.read_pickle(r'.\\data\\processed\\forPredictionData.pkl')\n",
    "id = forPredictionData.index\n",
    "attendanceData = pd.read_pickle(r\".\\data\\processed\\attendanceData.pkl\")\n",
    "attendanceData = attendanceData.fillna(0)\n",
    "\n",
    "## load model\n",
    "model = pickle.load(open(r'.\\pkl\\GradientBoostingModel.sav', 'rb'))"
   ]
  },
  {
   "cell_type": "code",
   "execution_count": 2,
   "metadata": {},
   "outputs": [],
   "source": [
    "predicted = model.predict(forPredictionData)\n",
    "predicted = pd.DataFrame({\"predicted\": predicted}, index = id)\n",
    "predicted = pd.concat([predicted, attendanceData], axis = 1)"
   ]
  },
  {
   "cell_type": "code",
   "execution_count": 4,
   "metadata": {},
   "outputs": [
    {
     "name": "stdout",
     "output_type": "stream",
     "text": [
      "att          0.0    1.0\n",
      "predicted              \n",
      "0.0         6054  21706\n",
      "1.0        17472  29003\n"
     ]
    }
   ],
   "source": [
    "confusion = pd.crosstab(predicted['predicted'], predicted['att'])\n",
    "print(confusion)"
   ]
  },
  {
   "cell_type": "code",
   "execution_count": 6,
   "metadata": {},
   "outputs": [
    {
     "name": "stdout",
     "output_type": "stream",
     "text": [
      "0.624055944056\n",
      "0.571949752509\n",
      "0.472243550886\n"
     ]
    }
   ],
   "source": [
    "precision = metrics.precision_score(predicted['att'], predicted['predicted'])\n",
    "print(precision)\n",
    "recall = metrics.recall_score(predicted['att'], predicted['predicted'])\n",
    "print(recall)\n",
    "accuracy = metrics.accuracy_score(predicted['predicted'], predicted['att'])\n",
    "print(accuracy)"
   ]
  },
  {
   "cell_type": "code",
   "execution_count": null,
   "metadata": {},
   "outputs": [],
   "source": []
  }
 ],
 "metadata": {
  "kernelspec": {
   "display_name": "Python 3",
   "language": "python",
   "name": "python3"
  },
  "language_info": {
   "codemirror_mode": {
    "name": "ipython",
    "version": 3
   },
   "file_extension": ".py",
   "mimetype": "text/x-python",
   "name": "python",
   "nbconvert_exporter": "python",
   "pygments_lexer": "ipython3",
   "version": "3.6.2"
  }
 },
 "nbformat": 4,
 "nbformat_minor": 2
}
