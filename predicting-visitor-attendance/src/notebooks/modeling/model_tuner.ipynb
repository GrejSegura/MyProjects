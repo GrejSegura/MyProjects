{
 "cells": [
  {
   "cell_type": "markdown",
   "metadata": {},
   "source": [
    "#### This page is for model tuning on Gradient Boosting Classifier"
   ]
  },
  {
   "cell_type": "code",
   "execution_count": 1,
   "metadata": {},
   "outputs": [],
   "source": [
    "# -*- coding: utf-8 -*-\n",
    "\n",
    "import random\n",
    "import numpy as np\n",
    "import pandas as pd\n",
    "import os\n",
    "from sklearn.model_selection import train_test_split\n",
    "from sklearn import metrics\n",
    "from sklearn.model_selection import GridSearchCV\n",
    "from sklearn.ensemble import GradientBoostingClassifier\n",
    "import matplotlib.pyplot as plt\n",
    "%matplotlib inline\n",
    "random.seed(23)\n",
    "\n",
    "## set the directory\n",
    "os.chdir(r'C:\\Users\\Grejell\\AnacondaProjects\\GulfoodDataMining')\n",
    "\n",
    "## load data -- this is the processed data output from data_prep\n",
    "mainData = pd.read_pickle(r'.\\data\\processed\\cleanData.pkl')"
   ]
  },
  {
   "cell_type": "markdown",
   "metadata": {},
   "source": [
    "#### Split data into train and test"
   ]
  },
  {
   "cell_type": "code",
   "execution_count": null,
   "metadata": {},
   "outputs": [],
   "source": [
    "dataX = mainData.drop(['att'], axis = 1)\n",
    "dataY = mainData['att']\n",
    "X_train, x_test, Y_train, y_test = train_test_split(dataX, dataY, random_state = 0)"
   ]
  },
  {
   "cell_type": "markdown",
   "metadata": {},
   "source": [
    "#### Tune the model by finding the best combination of parameters\n",
    "This training will be using a 5-fold cross validation evaluation"
   ]
  },
  {
   "cell_type": "code",
   "execution_count": null,
   "metadata": {},
   "outputs": [],
   "source": [
    "model = GradientBoostingClassifier()\n",
    "    #'''n_estimators = 600, learning_rate = 0.1, max_depth = 4, subsample = 1'''\n",
    "\n",
    "parametersGrid = {\n",
    "                  \n",
    "                  'n_estimators' : [\n",
    "                      #'''100, 200, 300, '''\n",
    "                                    400, 500, 600, 700, 800],\n",
    "                  'max_depth':[4,5,6,7,8],\n",
    "                  'learning_rate': [.1,.5,.8,.01],\n",
    "                  'subsample':[1.0, .8, .7, .6],\n",
    "                  #'min_samples_split':[0.5,1],\n",
    "                  #'min_samples_leaf':[1.0,2.0],\n",
    "                  #'min_weight_fraction_leaf':[0.0,0.3]\n",
    "                  \n",
    "                 }\n",
    "grid = GridSearchCV(model, parametersGrid, cv = 5) ## 5-fold\n",
    "grid.fit(X_train, Y_train)\n"
   ]
  },
  {
   "cell_type": "markdown",
   "metadata": {},
   "source": [
    "#### The best parameters\n",
    "model = GradientBoostingClassifier(n_estimators = 600, learning_rate = 0.1, max_depth = 4, subsample = 1) <br>\n",
    "best cross validation score: 0.83986318408"
   ]
  },
  {
   "cell_type": "code",
   "execution_count": null,
   "metadata": {},
   "outputs": [],
   "source": [
    "print (grid.best_params_)\n",
    "print(grid.best_score_)"
   ]
  }
 ],
 "metadata": {
  "kernelspec": {
   "display_name": "Python 3",
   "language": "python",
   "name": "python3"
  },
  "language_info": {
   "codemirror_mode": {
    "name": "ipython",
    "version": 3
   },
   "file_extension": ".py",
   "mimetype": "text/x-python",
   "name": "python",
   "nbconvert_exporter": "python",
   "pygments_lexer": "ipython3",
   "version": "3.6.2"
  }
 },
 "nbformat": 4,
 "nbformat_minor": 2
}
