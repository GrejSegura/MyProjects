{
 "cells": [
  {
   "cell_type": "markdown",
   "metadata": {},
   "source": [
    "Training the model using Light GBM\n",
    "============="
   ]
  },
  {
   "cell_type": "code",
   "execution_count": 1,
   "metadata": {},
   "outputs": [],
   "source": [
    "# -*- coding: utf-8 -*-\n",
    "\n",
    "import random\n",
    "import numpy as np\n",
    "import pandas as pd\n",
    "import os\n",
    "from sklearn import preprocessing\n",
    "from sklearn.model_selection import train_test_split\n",
    "from sklearn import metrics\n",
    "from sklearn.model_selection import GridSearchCV\n",
    "from sklearn.model_selection import RandomizedSearchCV\n",
    "from imblearn.over_sampling import SMOTE\n",
    "import lightgbm as lgb\n",
    "import matplotlib.pyplot as plt\n",
    "import gc\n",
    "random.seed(23)\n",
    "\n",
    "## set the directory\n",
    "os.chdir(r'C:\\Users\\User\\Documents\\Data_Science_Projects\\middle-east-event-show-prediction-project')\n",
    "\n",
    "# load the cleanData\n",
    "data = pd.read_pickle(r'.\\data\\output\\cleanData.pkl')\n",
    "data = data.drop(['card_number', 'show'], axis=1)"
   ]
  },
  {
   "cell_type": "markdown",
   "metadata": {},
   "source": [
    "#### Scale the numerical variables and Split data into train and test"
   ]
  },
  {
   "cell_type": "code",
   "execution_count": 3,
   "metadata": {},
   "outputs": [
    {
     "name": "stderr",
     "output_type": "stream",
     "text": [
      "C:\\Users\\User\\Anaconda3\\lib\\site-packages\\ipykernel_launcher.py:20: SettingWithCopyWarning: \n",
      "A value is trying to be set on a copy of a slice from a DataFrame.\n",
      "Try using .loc[row_indexer,col_indexer] = value instead\n",
      "\n",
      "See the caveats in the documentation: http://pandas.pydata.org/pandas-docs/stable/indexing.html#indexing-view-versus-copy\n",
      "C:\\Users\\User\\Anaconda3\\lib\\site-packages\\ipykernel_launcher.py:21: SettingWithCopyWarning: \n",
      "A value is trying to be set on a copy of a slice from a DataFrame.\n",
      "Try using .loc[row_indexer,col_indexer] = value instead\n",
      "\n",
      "See the caveats in the documentation: http://pandas.pydata.org/pandas-docs/stable/indexing.html#indexing-view-versus-copy\n"
     ]
    },
    {
     "data": {
      "text/plain": [
       "14"
      ]
     },
     "execution_count": 3,
     "metadata": {},
     "output_type": "execute_result"
    }
   ],
   "source": [
    "def preprocess_data(data):\n",
    "    data = data.rename(columns={'attended': 'labels'})\n",
    "    summary = data.describe().transpose()\n",
    "    cols = data[summary[summary['max']>1].reset_index()['index'].tolist()]\n",
    "    cols = cols.columns[1:]\n",
    "\n",
    "    # separate the labels/target variable\n",
    "    dataX = data.drop(['labels'], axis = 1)\n",
    "    dataY = data['labels']\n",
    "\n",
    "    # Create train and test dataset\n",
    "    X_train, x_test, Y_train, y_test = train_test_split(dataX, dataY, random_state = 0)\n",
    "\n",
    "    gather_data = pd.DataFrame(columns = ['feature', 'mean', 'std'])\n",
    "    for i in cols:\n",
    "        ave = X_train[i].mean()\n",
    "        std = X_train[i].std()\n",
    "        appended = pd.DataFrame({'feature': i, 'mean': ave, 'std': std}, index = [0])\n",
    "        gather_data = gather_data.append(appended, ignore_index=True)\n",
    "        x_test[i] = (x_test[i]-ave)/std\n",
    "        X_train[i] = (X_train[i]-ave)/std\n",
    "\n",
    "    # First, scale the Data - only those numerical/non-categorical\n",
    "    x_test = np.array(x_test)\n",
    "    y_test = np.array(y_test)\n",
    "    return X_train, x_test, Y_train, y_test, gather_data\n",
    "\n",
    "X_train, x_test, Y_train, y_test, gather_data = preprocess_data(data)\n",
    "gather_data.to_csv(r'.\\data\\output\\mean_std_scaler.csv', index=False)\n",
    "gc.collect()\n"
   ]
  },
  {
   "cell_type": "markdown",
   "metadata": {},
   "source": [
    "#### Upsample to cure the imbalance bias"
   ]
  },
  {
   "cell_type": "code",
   "execution_count": 4,
   "metadata": {},
   "outputs": [],
   "source": [
    "def upsample_data(train_data, label):\n",
    "    # apply oversampling (SMOTE) since the data is very imbalanced\n",
    "    smote = SMOTE(random_state=1, ratio=1.0)\n",
    "    X_train, Y_train = smote.fit_resample(train_data, label)\n",
    "    return X_train, Y_train\n",
    "\n",
    "X_train, Y_train = upsample_data(X_train, Y_train)"
   ]
  },
  {
   "cell_type": "markdown",
   "metadata": {},
   "source": [
    "#### Tune the model by finding the best combination of parameters\n",
    "This training will be using a 10-fold cross validation evaluation"
   ]
  },
  {
   "cell_type": "code",
   "execution_count": 6,
   "metadata": {},
   "outputs": [
    {
     "data": {
      "text/plain": [
       "\"no how'd you hear 0.7903225806451613\""
      ]
     },
     "execution_count": 6,
     "metadata": {},
     "output_type": "execute_result"
    }
   ],
   "source": [
    "'category+NOB+Interest+howd_hear+likelihood 0.7925021795989537'\n",
    "'No Questions  0.6935483870967742'\n",
    "'category+NOB+Interest+howd_hear 0.7898866608544028'\n",
    "'no category  0.7890148212728858'\n",
    "'no nob 0.7868352223190933'\n",
    "'no interest 0.7890148212728858'\n",
    "'no how\\'d you hear 0.7903225806451613'"
   ]
  },
  {
   "cell_type": "code",
   "execution_count": 7,
   "metadata": {},
   "outputs": [
    {
     "data": {
      "text/plain": [
       "\"def grid_search(X_train, Y_train):\\n    model = lgb.LGBMClassifier(boosting_type='gbdt',  objective='binary', metric='auc')\\n\\n    parametersGrid = {\\n                    'learning_rate': [0.03, 0.1],\\n                    'num_boost_round': [400,500,600],\\n                    'num_leaves': [12,13,14],\\n                    'reg_alpha': [0.1],\\n                    'min_data_in_leaf': [18,19,20],\\n                    'lambda_l1': [0.1],\\n                    'lambda_l2': [0,0.1],\\n                    'sub_feature':[ 0.5, 0.6, 0.7]\\n                     }\\n    grid = GridSearchCV(model, parametersGrid, cv=10, n_jobs=12) ## 10-fold cross-validation\\n    grid.fit(X_train, Y_train)\\n    print ('\\nThe best parameters are ', grid.best_params_)\\n    print('\\nThe best score is ', grid.best_score_)\\n    return grid\\n\\ngrid = grid_search(X_train, Y_train)\""
      ]
     },
     "execution_count": 7,
     "metadata": {},
     "output_type": "execute_result"
    }
   ],
   "source": [
    "'''def grid_search(X_train, Y_train):\n",
    "    model = lgb.LGBMClassifier(boosting_type='gbdt',  objective='binary', metric='auc')\n",
    "\n",
    "    parametersGrid = {\n",
    "                    'learning_rate': [0.03, 0.1],\n",
    "                    'num_boost_round': [400,500,600],\n",
    "                    'num_leaves': [12,13,14],\n",
    "                    'reg_alpha': [0.1],\n",
    "                    'min_data_in_leaf': [18,19,20],\n",
    "                    'lambda_l1': [0.1],\n",
    "                    'lambda_l2': [0,0.1],\n",
    "                    'sub_feature':[ 0.5, 0.6, 0.7]\n",
    "                     }\n",
    "    grid = GridSearchCV(model, parametersGrid, cv=10, n_jobs=12) ## 10-fold cross-validation\n",
    "    grid.fit(X_train, Y_train)\n",
    "    print ('\\nThe best parameters are ', grid.best_params_)\n",
    "    print('\\nThe best score is ', grid.best_score_)\n",
    "    return grid\n",
    "\n",
    "grid = grid_search(X_train, Y_train)'''"
   ]
  },
  {
   "cell_type": "code",
   "execution_count": 8,
   "metadata": {},
   "outputs": [
    {
     "name": "stderr",
     "output_type": "stream",
     "text": [
      "C:\\Users\\User\\Anaconda3\\lib\\site-packages\\sklearn\\model_selection\\_search.py:841: DeprecationWarning: The default of the `iid` parameter will change from True to False in version 0.22 and will be removed in 0.24. This will change numeric results when test-set sizes are unequal.\n",
      "  DeprecationWarning)\n",
      "C:\\Users\\User\\Anaconda3\\lib\\site-packages\\lightgbm\\engine.py:111: UserWarning: Found `num_boost_round` in params. Will use it instead of argument\n",
      "  warnings.warn(\"Found `{}` in params. Will use it instead of argument\".format(alias))\n"
     ]
    },
    {
     "name": "stdout",
     "output_type": "stream",
     "text": [
      "\n",
      "The best parameters are  {'lambda_l1': 0.4, 'learning_rate': 0.1, 'lambda_l2': 0, 'sub_feature': 0.6, 'num_leaves': 14, 'min_data_in_leaf': 20, 'reg_alpha': 0.4, 'num_boost_round': 400}\n",
      "\n",
      "The best score is  0.8108108108108109\n"
     ]
    }
   ],
   "source": [
    "def grid_search(X_train, Y_train):\n",
    "    model = lgb.LGBMClassifier(boosting_type='gbdt',  objective='binary', metric='auc')\n",
    "\n",
    "    param_dist = {\n",
    "                    'learning_rate': [0.001, 0.1, 0.01],\n",
    "                    'num_boost_round': [400,500,600],\n",
    "                    'num_leaves': [12,13,14],\n",
    "                    'reg_alpha': [0, 0.1, 0.4, 0.7],\n",
    "                    'min_data_in_leaf': [18,19,20],\n",
    "                    'lambda_l1': [0, 0.1, 0.4, 0.7],\n",
    "                    'lambda_l2': [0, 0.1, 0.4, 0.7],\n",
    "                    'sub_feature':[ 0.5, 0.6, 0.7]\n",
    "    }\n",
    "\n",
    "    n_iter_search = 1000\n",
    "    grid = RandomizedSearchCV(model, cv=10, param_distributions=param_dist, n_jobs=12, n_iter=n_iter_search) ## 10-fold cross-validation\n",
    "    grid.fit(X_train, Y_train)\n",
    "    print ('\\nThe best parameters are ', grid.best_params_)\n",
    "    print('\\nThe best score is ', grid.best_score_)\n",
    "    return grid\n",
    "\n",
    "grid = grid_search(X_train, Y_train)"
   ]
  },
  {
   "cell_type": "markdown",
   "metadata": {},
   "source": [
    "#### The best parameters :\n",
    "The best parameters are  {'lambda_l1': 0.4, 'learning_rate': 0.1, 'lambda_l2': 0, 'sub_feature': 0.6, 'num_leaves': 14, 'min_data_in_leaf': 20, 'reg_alpha': 0.4, 'num_boost_round': 400}\n"
   ]
  }
 ],
 "metadata": {
  "kernelspec": {
   "display_name": "Python 3",
   "language": "python",
   "name": "python3"
  },
  "language_info": {
   "codemirror_mode": {
    "name": "ipython",
    "version": 3
   },
   "file_extension": ".py",
   "mimetype": "text/x-python",
   "name": "python",
   "nbconvert_exporter": "python",
   "pygments_lexer": "ipython3",
   "version": "3.5.6"
  }
 },
 "nbformat": 4,
 "nbformat_minor": 2
}
