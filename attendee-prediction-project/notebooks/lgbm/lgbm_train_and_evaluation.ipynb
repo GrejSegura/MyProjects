{
 "cells": [
  {
   "cell_type": "markdown",
   "metadata": {},
   "source": [
    "Training a Light GBM model\n",
    "=================\n",
    "**Author:** `Grej Segura`"
   ]
  },
  {
   "cell_type": "code",
   "execution_count": 1,
   "metadata": {},
   "outputs": [],
   "source": [
    "# -*- coding: utf-8 -*-\n",
    "\n",
    "import random\n",
    "import numpy as np\n",
    "import pandas as pd\n",
    "import os\n",
    "from sklearn.model_selection import train_test_split\n",
    "from sklearn import metrics\n",
    "import lightgbm as lgb\n",
    "from sklearn import preprocessing\n",
    "from imblearn.over_sampling import SMOTE\n",
    "import pickle\n",
    "import gc\n",
    "random.seed(23)\n",
    "\n",
    "## set the directory\n",
    "os.chdir(r'C:\\Users\\User\\Documents\\Data_Science_Projects\\middle-east-event-show-prediction-project')\n",
    "\n",
    "\n",
    "# load the cleanData\n",
    "data = pd.read_pickle(r'.\\data\\output\\cleanData.pkl')\n",
    "data = data.drop(['card_number', 'show'], axis=1)"
   ]
  },
  {
   "cell_type": "code",
   "execution_count": 2,
   "metadata": {},
   "outputs": [
    {
     "name": "stderr",
     "output_type": "stream",
     "text": [
      "C:\\Users\\User\\Anaconda3\\lib\\site-packages\\ipykernel_launcher.py:20: SettingWithCopyWarning: \n",
      "A value is trying to be set on a copy of a slice from a DataFrame.\n",
      "Try using .loc[row_indexer,col_indexer] = value instead\n",
      "\n",
      "See the caveats in the documentation: http://pandas.pydata.org/pandas-docs/stable/indexing.html#indexing-view-versus-copy\n",
      "C:\\Users\\User\\Anaconda3\\lib\\site-packages\\ipykernel_launcher.py:21: SettingWithCopyWarning: \n",
      "A value is trying to be set on a copy of a slice from a DataFrame.\n",
      "Try using .loc[row_indexer,col_indexer] = value instead\n",
      "\n",
      "See the caveats in the documentation: http://pandas.pydata.org/pandas-docs/stable/indexing.html#indexing-view-versus-copy\n"
     ]
    },
    {
     "data": {
      "text/plain": [
       "14"
      ]
     },
     "execution_count": 2,
     "metadata": {},
     "output_type": "execute_result"
    }
   ],
   "source": [
    "def preprocess_data(data):\n",
    "    data = data.rename(columns={'target': 'labels'})\n",
    "    summary = data.describe().transpose()\n",
    "    cols = data[summary[summary['max']>1].reset_index()['index'].tolist()]\n",
    "    cols = cols.columns[1:]\n",
    "\n",
    "    # separate the labels/target variable\n",
    "    dataX = data.drop(['labels'], axis = 1)\n",
    "    dataY = data['labels']\n",
    "\n",
    "    # Create train and test dataset\n",
    "    X_train, x_test, Y_train, y_test = train_test_split(dataX, dataY, random_state = 0)\n",
    "\n",
    "    gather_data = pd.DataFrame(columns = ['feature', 'mean', 'std'])\n",
    "    for i in cols:\n",
    "        ave = X_train[i].mean()\n",
    "        std = X_train[i].std()\n",
    "        appended = pd.DataFrame({'feature': i, 'mean': ave, 'std': std}, index = [0])\n",
    "        gather_data = gather_data.append(appended, ignore_index=True)\n",
    "        x_test[i] = (x_test[i]-ave)/std\n",
    "        X_train[i] = (X_train[i]-ave)/std\n",
    "\n",
    "    # First, scale the Data - only those numerical/non-categorical\n",
    "    x_test = np.array(x_test)\n",
    "    y_test = np.array(y_test)\n",
    "    return X_train, x_test, Y_train, y_test, gather_data\n",
    "\n",
    "X_train, x_test, Y_train, y_test, gather_data = preprocess_data(data)\n",
    "#gather_data.to_csv(r'.\\data\\output\\mean_std_scaler.csv', index=False)\n",
    "gc.collect()\n"
   ]
  },
  {
   "cell_type": "code",
   "execution_count": 3,
   "metadata": {},
   "outputs": [],
   "source": [
    "'''# clear memory\n",
    "gc.collect()\n",
    "\n",
    "def upsample_data(train_data, label):\n",
    "    # apply oversampling (SMOTE) since the data is very imbalanced\n",
    "    smote = SMOTE(random_state=1, ratio=1.0)\n",
    "    X_train, Y_train = smote.fit_resample(train_data, label)\n",
    "    return X_train, Y_train\n",
    "\n",
    "X_train, Y_train = upsample_data(X_train, Y_train)'''"
   ]
  },
  {
   "cell_type": "code",
   "execution_count": 4,
   "metadata": {},
   "outputs": [
    {
     "name": "stdout",
     "output_type": "stream",
     "text": [
      "1147\n",
      "1147\n"
     ]
    }
   ],
   "source": [
    "print(len(Y_train[Y_train==1]))\n",
    "print(len(Y_train[Y_train==0]))"
   ]
  },
  {
   "cell_type": "code",
   "execution_count": 47,
   "metadata": {},
   "outputs": [],
   "source": [
    "def train_model(X_train, Y_train):\n",
    "    d_train = lgb.Dataset(X_train, label=Y_train)\n",
    "    params = {}\n",
    "    params['learning_rate'] = 0.1\n",
    "    params['boosting_type'] = 'gbdt'\n",
    "    params['objective'] = 'binary'\n",
    "    params['metric'] = 'auc'\n",
    "    params['sub_feature'] = 0.6\n",
    "    params['num_leaves'] = 14\n",
    "    params['min_data'] = 20\n",
    "    params['lambda_l1'] = 0.4\n",
    "    params['lambda_l2'] = 0\n",
    "    params['reg_alpha'] = 0\n",
    "    model = lgb.train(params, d_train, 400)\n",
    "    return model\n",
    "\n",
    "model = train_model(X_train, Y_train)"
   ]
  },
  {
   "cell_type": "code",
   "execution_count": 48,
   "metadata": {},
   "outputs": [
    {
     "name": "stdout",
     "output_type": "stream",
     "text": [
      "\n",
      "\n",
      "\n",
      "The following are metrices for  TRAIN  data\n",
      "\n",
      "ACCURACY is 0.9760244115082825\n",
      "\n",
      " CONFUSION MATRIX:\n",
      " true        0.0   1.0\n",
      "predicted            \n",
      "0.0        1138    46\n",
      "1.0           9  1101\n",
      "\n",
      " TRAIN DATA PRECISION 0.9918918918918919\n",
      "\n",
      " TRAIN DATA RECALL 0.959895379250218\n",
      "\n",
      "\n",
      "\n",
      "The following are metrices for  TEST  data\n",
      "\n",
      "ACCURACY is 0.7440585009140768\n",
      "\n",
      " CONFUSION MATRIX:\n",
      " true       0.0  1.0\n",
      "predicted          \n",
      "0.0        329   99\n",
      "1.0         41   78\n",
      "\n",
      " TEST DATA PRECISION 0.6554621848739496\n",
      "\n",
      " TEST DATA RECALL 0.4406779661016949\n"
     ]
    }
   ],
   "source": [
    "def predict_data(X, Y, data_type):\n",
    "    ## predicting test data\n",
    "    y_pred = model.predict(X)\n",
    "    for i in range(len(X)):\n",
    "        if y_pred[i]>=.5:       # setting threshold to .5\n",
    "           y_pred[i]=1\n",
    "        else:  \n",
    "           y_pred[i]=0\n",
    "\n",
    "    #print accuracy_score(y_test, predicted) for test data\n",
    "    accuracy = metrics.accuracy_score(y_pred, Y)\n",
    "    print('\\n\\n\\nThe following are metrices for ', data_type, ' data')\n",
    "    print('\\nACCURACY is ' + accuracy.astype(str))\n",
    "    preds = pd.DataFrame({'true': Y, 'predicted': y_pred})\n",
    "    confusion = pd.crosstab(preds['predicted'], preds['true'])\n",
    "    print('\\n CONFUSION MATRIX:\\n', confusion)\n",
    "    precision = metrics.precision_score(Y, y_pred)\n",
    "    print('\\n', data_type ,'DATA PRECISION ' + precision.astype(str))\n",
    "    recall = metrics.recall_score(Y, y_pred)\n",
    "    print('\\n', data_type ,'DATA RECALL ' + recall.astype(str))\n",
    "    return y_pred\n",
    "\n",
    "y_pred_train = predict_data(X_train, Y_train, data_type='TRAIN')\n",
    "y_pred_test = predict_data(x_test, y_test, data_type='TEST')\n",
    "## save the model - this will be used in the deployment part to generate new predictions\n",
    "pickle.dump(model, open(r'.\\models\\lightGBMmodel.sav', 'wb'))"
   ]
  },
  {
   "cell_type": "code",
   "execution_count": 12,
   "metadata": {},
   "outputs": [
    {
     "data": {
      "text/plain": [
       "Index(['opened_email_broadcast', 'count_number_email_opened', 'days_to_go',\n",
       "       'weeks_to_go', 'distance', 'association', 'attended', 'av_production',\n",
       "       'brand_communication_agencies', 'concert_event_promoter',\n",
       "       'conference_organiser', 'content_development', 'corporate_marketing',\n",
       "       'creative_agency_public_relations_and_sales', 'design_agencies_',\n",
       "       'destination_management', 'destination_management_company',\n",
       "       'email_from_mese', 'entertainment', 'entertainment_provider',\n",
       "       'event_management', 'event_management_agency',\n",
       "       'event_management_technology', 'event_organiser', 'event_organizers',\n",
       "       'event_production', 'exhibition', 'exhibitor', 'facebook',\n",
       "       'hospitality_and_catering', 'hotels_and_catering',\n",
       "       'invite_from_a_sponsor_exhibitor_of_the_event',\n",
       "       'invite_from_an_association_or_partner', 'linkedin',\n",
       "       'magazine_advertisement',\n",
       "       'marketing_or_procurement_professional_corporate',\n",
       "       'marketing_or_procurement_professional_government', 'media',\n",
       "       'online_article', 'online_banner_or_advert',\n",
       "       'other_channel_please_specify_', 'other_servces_please_specify_',\n",
       "       'other_services_please_specify_', 'other_social_media',\n",
       "       'permanent_structures', 'project_management_and_planning',\n",
       "       'promotional_merchandise', 'recommendation_from_a_colleague_friend',\n",
       "       'registration_company', 'search_engine_google_yahoo_bing_etc_',\n",
       "       'sms_from_mese', 'speaker', 'staffing', 'stand_builders',\n",
       "       'technology_provider', 'temporary_structures', 'the_special_event',\n",
       "       'ticketing', 'twitter', 'venue_planner', 'venues',\n",
       "       'videography_and_photography', 'visitor', 'weddings', 'State_abu_dhabi',\n",
       "       'State_ajman', 'State_dubai', 'State_fujairah',\n",
       "       'State_international_state', 'State_ras_al_khaimah', 'State_sharjah',\n",
       "       'region_1_Australasia', 'region_1_Central America',\n",
       "       'region_1_Central Asia', 'region_1_Eastern Africa',\n",
       "       'region_1_Eastern Europe', 'region_1_MiddleEast-GCC',\n",
       "       'region_1_MiddleEast-NonGCC', 'region_1_Northern Africa',\n",
       "       'region_1_Northern America', 'region_1_Northern Europe',\n",
       "       'region_1_South America', 'region_1_South-Eastern Asia',\n",
       "       'region_1_Southern Africa', 'region_1_Southern Asia',\n",
       "       'region_1_Southern Europe', 'region_1_Western Africa',\n",
       "       'region_1_Western Asia', 'region_1_Western Europe', 'region_2_Africa',\n",
       "       'region_2_Americas', 'region_2_Australia-Asia', 'region_2_Europe',\n",
       "       'region_2_ME GCC', 'region_2_ME Non-GCC', 'count_per_company'],\n",
       "      dtype='object')"
      ]
     },
     "execution_count": 12,
     "metadata": {},
     "output_type": "execute_result"
    }
   ],
   "source": [
    "data.columns"
   ]
  },
  {
   "cell_type": "code",
   "execution_count": null,
   "metadata": {},
   "outputs": [],
   "source": []
  }
 ],
 "metadata": {
  "kernelspec": {
   "display_name": "Python 3",
   "language": "python",
   "name": "python3"
  },
  "language_info": {
   "codemirror_mode": {
    "name": "ipython",
    "version": 3
   },
   "file_extension": ".py",
   "mimetype": "text/x-python",
   "name": "python",
   "nbconvert_exporter": "python",
   "pygments_lexer": "ipython3",
   "version": "3.5.6"
  }
 },
 "nbformat": 4,
 "nbformat_minor": 2
}
