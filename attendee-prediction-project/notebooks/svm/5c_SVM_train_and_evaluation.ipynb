{
 "cells": [
  {
   "cell_type": "markdown",
   "metadata": {},
   "source": [
    "Training a Light GBM model\n",
    "=================\n",
    "**Author:** `Grej Segura`"
   ]
  },
  {
   "cell_type": "code",
   "execution_count": 63,
   "metadata": {},
   "outputs": [],
   "source": [
    "# -*- coding: utf-8 -*-\n",
    "\n",
    "import random\n",
    "import numpy as np\n",
    "import pandas as pd\n",
    "import os\n",
    "from sklearn import preprocessing\n",
    "from sklearn.model_selection import train_test_split\n",
    "from sklearn import metrics\n",
    "from sklearn.model_selection import GridSearchCV\n",
    "from imblearn.over_sampling import SMOTE\n",
    "from sklearn import svm\n",
    "import matplotlib.pyplot as plt\n",
    "import gc\n",
    "import pickle\n",
    "\n",
    "random.seed(23)\n",
    "\n",
    "## set the directory\n",
    "os.chdir(r'C:\\Users\\User\\Documents\\Data_Science_Projects\\middle-east-event-show-prediction-project')\n",
    "\n",
    "# load the cleanData\n",
    "data = pd.read_pickle(r'.\\data\\output\\cleanData.pkl')\n",
    "data = data.drop(['10 Digit Card Number', 'show'], axis=1)\n",
    "data.loc[data['attended']==0, 'attended'] = -1"
   ]
  },
  {
   "cell_type": "code",
   "execution_count": 64,
   "metadata": {},
   "outputs": [
    {
     "name": "stderr",
     "output_type": "stream",
     "text": [
      "C:\\Users\\User\\Anaconda3\\lib\\site-packages\\sklearn\\preprocessing\\data.py:617: DataConversionWarning: Data with input dtype uint8, int64, float64 were all converted to float64 by StandardScaler.\n",
      "  return self.partial_fit(X, y)\n",
      "C:\\Users\\User\\Anaconda3\\lib\\site-packages\\sklearn\\base.py:462: DataConversionWarning: Data with input dtype uint8, int64, float64 were all converted to float64 by StandardScaler.\n",
      "  return self.fit(X, **fit_params).transform(X)\n"
     ]
    }
   ],
   "source": [
    "def preprocess_data(data):\n",
    "    data = data.rename(columns={'attended': 'labels'})\n",
    "    summary = data.describe().transpose()\n",
    "    cols = data[summary[summary['max']>1].reset_index()['index'].tolist()]\n",
    "    cols = cols.columns[1:]\n",
    "\n",
    "    # separate the labels/target variable\n",
    "    dataX = data.drop(['labels'], axis = 1)\n",
    "    dataY = data['labels']\n",
    "\n",
    "    # First, scale the Data - only those numerical/non-categorical\n",
    "    names = dataX.columns\n",
    "    scaler = preprocessing.StandardScaler()\n",
    "    # Fit your data on the scaler object\n",
    "    scaled_data = scaler.fit_transform(dataX)\n",
    "    scaled_data = pd.DataFrame(scaled_data, columns=names)\n",
    "    scaled_data = scaled_data[cols] ###------------------->> cols are non-categorical columns\n",
    "    dataX = dataX.drop(cols, axis=1)\n",
    "    dataX = pd.concat([scaled_data, dataX], axis=1)\n",
    "    \n",
    "    # Create train and test dataset\n",
    "    X_train, x_test, Y_train, y_test = train_test_split(dataX, dataY, random_state = 50)\n",
    "    x_test = np.array(x_test)\n",
    "    y_test = np.array(y_test)\n",
    "    return X_train, x_test, Y_train, y_test\n",
    "\n",
    "X_train, x_test, Y_train, y_test = preprocess_data(data)"
   ]
  },
  {
   "cell_type": "code",
   "execution_count": 65,
   "metadata": {},
   "outputs": [],
   "source": [
    "# clear memory\n",
    "gc.collect()\n",
    "\n",
    "def upsample_data(train_data, label):\n",
    "    # apply oversampling (SMOTE) since the data is very imbalanced\n",
    "    smote = SMOTE(random_state=1, ratio=1.0)\n",
    "    X_train, Y_train = smote.fit_resample(train_data, label)\n",
    "    return X_train, Y_train\n",
    "\n",
    "X_train, Y_train = upsample_data(X_train, Y_train)"
   ]
  },
  {
   "cell_type": "code",
   "execution_count": 66,
   "metadata": {},
   "outputs": [
    {
     "name": "stdout",
     "output_type": "stream",
     "text": [
      "1212\n",
      "0\n"
     ]
    }
   ],
   "source": [
    "print(len(Y_train[Y_train==1]))\n",
    "print(len(Y_train[Y_train==0]))"
   ]
  },
  {
   "cell_type": "code",
   "execution_count": 67,
   "metadata": {},
   "outputs": [],
   "source": [
    "def train_model(X_train, Y_train):\n",
    "    model = svm.SVC(gamma=0.5, C=12, )\n",
    "    model.fit(X_train, Y_train)\n",
    "    return model\n",
    "\n",
    "model = train_model(X_train, Y_train)"
   ]
  },
  {
   "cell_type": "code",
   "execution_count": 68,
   "metadata": {},
   "outputs": [
    {
     "name": "stdout",
     "output_type": "stream",
     "text": [
      "\n",
      "\n",
      "\n",
      "The following are metrices for  TRAIN  data\n",
      "\n",
      "ACCURACY is 0.9843234323432343\n",
      "\n",
      " CONFUSION MATRIX:\n",
      " true       -1.0   1.0\n",
      "predicted            \n",
      "-1.0       1201    27\n",
      " 1.0         11  1185\n",
      "\n",
      " TRAIN DATA PRECISION 0.9908026755852842\n",
      "\n",
      " TRAIN DATA RECALL 0.9777227722772277\n",
      "\n",
      "\n",
      "\n",
      "The following are metrices for  TEST  data\n",
      "\n",
      "ACCURACY is 0.6581059390048154\n",
      "\n",
      " CONFUSION MATRIX:\n",
      " true       -1.0   1.0\n",
      "predicted            \n",
      "-1.0        362   179\n",
      " 1.0         34    48\n",
      "\n",
      " TEST DATA PRECISION 0.5853658536585366\n",
      "\n",
      " TEST DATA RECALL 0.21145374449339208\n"
     ]
    }
   ],
   "source": [
    "def predict_data(X, Y, data_type):\n",
    "    ## predicting test data\n",
    "    y_pred = model.predict(X)\n",
    "    for i in range(len(X)):\n",
    "        if y_pred[i]>=.5:       # setting threshold to .5\n",
    "           y_pred[i]=1\n",
    "        else:  \n",
    "           y_pred[i]=-1\n",
    "\n",
    "    #print accuracy_score(y_test, predicted) for test data\n",
    "    accuracy = metrics.accuracy_score(y_pred, Y)\n",
    "    print('\\n\\n\\nThe following are metrices for ', data_type, ' data')\n",
    "    print('\\nACCURACY is ' + accuracy.astype(str))\n",
    "    preds = pd.DataFrame({'true': Y, 'predicted': y_pred})\n",
    "    confusion = pd.crosstab(preds['predicted'], preds['true'])\n",
    "    print('\\n CONFUSION MATRIX:\\n', confusion)\n",
    "    precision = metrics.precision_score(Y, y_pred)\n",
    "    print('\\n', data_type ,'DATA PRECISION ' + precision.astype(str))\n",
    "    recall = metrics.recall_score(Y, y_pred)\n",
    "    print('\\n', data_type ,'DATA RECALL ' + recall.astype(str))\n",
    "    return y_pred\n",
    "\n",
    "y_pred_train = predict_data(X_train, Y_train, data_type='TRAIN')\n",
    "y_pred_test = predict_data(x_test, y_test, data_type='TEST')\n",
    "## save the model - this will be used in the deployment part to generate new predictions\n",
    "pickle.dump(model, open(r'.\\models\\SVMModel.sav', 'wb'))"
   ]
  },
  {
   "cell_type": "code",
   "execution_count": 69,
   "metadata": {},
   "outputs": [
    {
     "name": "stdout",
     "output_type": "stream",
     "text": [
      "<class 'pandas.core.frame.DataFrame'>\n",
      "Int64Index: 2489 entries, 0 to 2488\n",
      "Columns: 147 entries, with_website to count_per_website\n",
      "dtypes: float64(65), int64(1), uint8(81)\n",
      "memory usage: 1.5 MB\n"
     ]
    }
   ],
   "source": [
    "data.info()"
   ]
  },
  {
   "cell_type": "code",
   "execution_count": 70,
   "metadata": {},
   "outputs": [
    {
     "data": {
      "text/plain": [
       "Index(['with_website', 'with_email', 'days_to_go', 'weeks_to_go', 'latitude',\n",
       "       'longitude', 'distance', 'association', 'attended', 'av_production',\n",
       "       ...\n",
       "       'region_1_Western Europe', 'region_2_Africa', 'region_2_Americas',\n",
       "       'region_2_Australia-Asia', 'region_2_Europe', 'region_2_ME GCC',\n",
       "       'region_2_ME Non-GCC', 'count_per_company', 'count_per_comp_website',\n",
       "       'count_per_website'],\n",
       "      dtype='object', length=147)"
      ]
     },
     "execution_count": 70,
     "metadata": {},
     "output_type": "execute_result"
    }
   ],
   "source": [
    "data.columns"
   ]
  },
  {
   "cell_type": "code",
   "execution_count": null,
   "metadata": {},
   "outputs": [],
   "source": []
  }
 ],
 "metadata": {
  "kernelspec": {
   "display_name": "Python 3",
   "language": "python",
   "name": "python3"
  },
  "language_info": {
   "codemirror_mode": {
    "name": "ipython",
    "version": 3
   },
   "file_extension": ".py",
   "mimetype": "text/x-python",
   "name": "python",
   "nbconvert_exporter": "python",
   "pygments_lexer": "ipython3",
   "version": "3.5.6"
  }
 },
 "nbformat": 4,
 "nbformat_minor": 2
}
