{
 "cells": [
  {
   "cell_type": "markdown",
   "metadata": {},
   "source": [
    "Training the model using Support Vector Machine\n",
    "============="
   ]
  },
  {
   "cell_type": "code",
   "execution_count": 1,
   "metadata": {},
   "outputs": [],
   "source": [
    "# -*- coding: utf-8 -*-\n",
    "\n",
    "import random\n",
    "import numpy as np\n",
    "import pandas as pd\n",
    "import os\n",
    "from sklearn import preprocessing\n",
    "from sklearn.model_selection import train_test_split\n",
    "from sklearn import metrics\n",
    "from sklearn.model_selection import GridSearchCV\n",
    "from imblearn.over_sampling import SMOTE\n",
    "from sklearn import svm\n",
    "import matplotlib.pyplot as plt\n",
    "import gc\n",
    "random.seed(23)\n",
    "\n",
    "## set the directory\n",
    "os.chdir(r'C:\\Users\\User\\Documents\\Data_Science_Projects\\food-expo-attendee-prediction-project')\n",
    "\n",
    "# load the cleanData\n",
    "data = pd.read_pickle(r'.\\data\\output\\cleanData.pkl')\n",
    "data = data.drop(['10 Digit Card Number', 'show'], axis=1)"
   ]
  },
  {
   "cell_type": "markdown",
   "metadata": {},
   "source": [
    "##### Split data into train and test"
   ]
  },
  {
   "cell_type": "code",
   "execution_count": 2,
   "metadata": {},
   "outputs": [
    {
     "name": "stderr",
     "output_type": "stream",
     "text": [
      "C:\\Users\\User\\Anaconda3\\lib\\site-packages\\sklearn\\preprocessing\\data.py:617: DataConversionWarning: Data with input dtype uint8, int64, float64 were all converted to float64 by StandardScaler.\n",
      "  return self.partial_fit(X, y)\n",
      "C:\\Users\\User\\Anaconda3\\lib\\site-packages\\sklearn\\base.py:462: DataConversionWarning: Data with input dtype uint8, int64, float64 were all converted to float64 by StandardScaler.\n",
      "  return self.fit(X, **fit_params).transform(X)\n"
     ]
    }
   ],
   "source": [
    "def preprocess_data(data):\n",
    "    data = data.rename(columns={'attended': 'labels'})\n",
    "    summary = data.describe().transpose()\n",
    "    cols = data[summary[summary['max']>1].reset_index()['index'].tolist()]\n",
    "    cols = cols.columns[1:]\n",
    "\n",
    "    # separate the labels/target variable\n",
    "    dataX = data.drop(['labels'], axis = 1)\n",
    "    dataY = data['labels']\n",
    "\n",
    "    # First, scale the Data - only those numerical/non-categorical\n",
    "    names = dataX.columns\n",
    "    scaler = preprocessing.StandardScaler()\n",
    "    # Fit your data on the scaler object\n",
    "    scaled_data = scaler.fit_transform(dataX)\n",
    "    scaled_data = pd.DataFrame(scaled_data, columns=names)\n",
    "    scaled_data = scaled_data[cols] ###------------------->> cols are non-categorical columns\n",
    "    dataX = dataX.drop(cols, axis=1)\n",
    "    dataX = pd.concat([scaled_data, dataX], axis=1)\n",
    "    \n",
    "    # Create train and test dataset\n",
    "    X_train, x_test, Y_train, y_test = train_test_split(dataX, dataY, random_state = 0)\n",
    "    x_test = np.array(x_test)\n",
    "    y_test = np.array(y_test)\n",
    "    return X_train, x_test, Y_train, y_test\n",
    "\n",
    "X_train, x_test, Y_train, y_test = preprocess_data(data)\n",
    "gc.collect()\n"
   ]
  },
  {
   "cell_type": "code",
   "execution_count": 3,
   "metadata": {},
   "outputs": [],
   "source": [
    "def upsample_data(train_data, label):\n",
    "    # apply oversampling (SMOTE) since the data is very imbalanced\n",
    "    smote = SMOTE(random_state=1, ratio=1.0)\n",
    "    X_train, Y_train = smote.fit_resample(train_data, label)\n",
    "    return X_train, Y_train\n",
    "\n",
    "X_train, Y_train = upsample_data(X_train, Y_train)"
   ]
  },
  {
   "cell_type": "code",
   "execution_count": 4,
   "metadata": {},
   "outputs": [
    {
     "name": "stdout",
     "output_type": "stream",
     "text": [
      "37543\n",
      "37543\n"
     ]
    }
   ],
   "source": [
    "print(len(Y_train[Y_train==1]))\n",
    "print(len(Y_train[Y_train==0]))"
   ]
  },
  {
   "cell_type": "markdown",
   "metadata": {},
   "source": [
    "##### Tune the model by finding the best combination of parameters\n",
    "This training will be using a -fold cross validation evaluation"
   ]
  },
  {
   "cell_type": "code",
   "execution_count": null,
   "metadata": {},
   "outputs": [],
   "source": [
    "model = svm.SVC()\n",
    "\n",
    "parametersGrid = {\n",
    "                'C': [1, 10], #0.001, 0.01, 0.1, \n",
    "                'gamma': [0.001] #, 0.01, 0.1, 1\n",
    "                 }\n",
    "grid = GridSearchCV(model, parametersGrid, cv=8, n_jobs=12) ## 8-fold cross-validation\n",
    "grid.fit(X_train, Y_train)"
   ]
  },
  {
   "cell_type": "code",
   "execution_count": null,
   "metadata": {},
   "outputs": [],
   "source": [
    "print (grid.best_params_)\n",
    "print(grid.best_score_)"
   ]
  },
  {
   "cell_type": "markdown",
   "metadata": {},
   "source": [
    "#### The best parameters :\n",
    "    parametersGrid = {\n",
    "                'C': [0.001, 0.01, 0.1, 1, 10],\n",
    "                'gamma': [0.001, 0.01, 0.1, 1]\n",
    "                 }"
   ]
  },
  {
   "cell_type": "code",
   "execution_count": null,
   "metadata": {},
   "outputs": [],
   "source": [
    "0.7854327038329383"
   ]
  },
  {
   "cell_type": "code",
   "execution_count": null,
   "metadata": {},
   "outputs": [],
   "source": []
  }
 ],
 "metadata": {
  "kernelspec": {
   "display_name": "Python 3",
   "language": "python",
   "name": "python3"
  },
  "language_info": {
   "codemirror_mode": {
    "name": "ipython",
    "version": 3
   },
   "file_extension": ".py",
   "mimetype": "text/x-python",
   "name": "python",
   "nbconvert_exporter": "python",
   "pygments_lexer": "ipython3",
   "version": "3.5.6"
  }
 },
 "nbformat": 4,
 "nbformat_minor": 2
}
