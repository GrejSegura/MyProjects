{
 "cells": [
  {
   "cell_type": "markdown",
   "metadata": {},
   "source": [
    "#### This is the training for the model with the best parameters after tuning"
   ]
  },
  {
   "cell_type": "code",
   "execution_count": 1,
   "metadata": {},
   "outputs": [],
   "source": [
    "# -*- coding: utf-8 -*-\n",
    "\n",
    "import random\n",
    "import numpy as np\n",
    "import pandas as pd\n",
    "import os\n",
    "from sklearn.model_selection import train_test_split\n",
    "from sklearn import metrics\n",
    "from sklearn.ensemble import GradientBoostingClassifier\n",
    "import pickle\n",
    "random.seed(23)\n",
    "\n",
    "## set the directory\n",
    "os.chdir(r'C:\\Users\\Grejell\\AnacondaProjects\\GulfoodDataMining')\n",
    "\n",
    "## load data\n",
    "# mainData = pd.read_pickle(r'.\\data\\processed\\cleanData.pkl') --------> use this to use the 2017data only as training set\n",
    "mainData = pd.read_pickle(r'.\\data\\processed\\cleanData.pkl') # --------> use this to use 2017data AND 2018data as training set\n",
    "\n",
    "## split data into train and test\n",
    "dataX = mainData.drop(['att'], axis = 1)\n",
    "dataY = mainData['att']\n",
    "X_train, x_test, Y_train, y_test = train_test_split(dataX, dataY, random_state = 0)"
   ]
  },
  {
   "cell_type": "code",
   "execution_count": 2,
   "metadata": {},
   "outputs": [
    {
     "name": "stdout",
     "output_type": "stream",
     "text": [
      "0.889922161996\n"
     ]
    }
   ],
   "source": [
    "## try fitting a gradient boosting model\n",
    "model = GradientBoostingClassifier(n_estimators = 600, learning_rate = 0.1, max_depth = 4, subsample = 1)\n",
    "model = model.fit(X_train, Y_train)\n",
    "\n",
    "#print accuracy_score on training data\n",
    "score = model.score(X_train, Y_train)\n",
    "print(score)"
   ]
  },
  {
   "cell_type": "code",
   "execution_count": 3,
   "metadata": {},
   "outputs": [
    {
     "name": "stdout",
     "output_type": "stream",
     "text": [
      "0.886094484548\n"
     ]
    }
   ],
   "source": [
    "## also try predicting the test data\n",
    "predicted = model.predict(x_test)\n",
    "\n",
    "#print accuracy_score(y_test, predicted) for test data\n",
    "accuracy = metrics.accuracy_score(predicted, y_test)\n",
    "print(accuracy)"
   ]
  },
  {
   "cell_type": "code",
   "execution_count": 4,
   "metadata": {},
   "outputs": [],
   "source": [
    "preds = pd.DataFrame({'true': y_test, 'predicted': predicted})"
   ]
  },
  {
   "cell_type": "code",
   "execution_count": 5,
   "metadata": {},
   "outputs": [
    {
     "name": "stdout",
     "output_type": "stream",
     "text": [
      "true         0.0    1.0\n",
      "predicted              \n",
      "0.0        22822   1015\n",
      "1.0         3419  11671\n"
     ]
    }
   ],
   "source": [
    "confusion = pd.crosstab(preds['predicted'], preds['true'])\n",
    "print(confusion)"
   ]
  },
  {
   "cell_type": "code",
   "execution_count": 6,
   "metadata": {},
   "outputs": [
    {
     "name": "stdout",
     "output_type": "stream",
     "text": [
      "0.773426110007\n",
      "0.919990540754\n"
     ]
    }
   ],
   "source": [
    "precision = metrics.precision_score(y_test, predicted)\n",
    "print(precision)\n",
    "recall = metrics.recall_score(y_test, predicted)\n",
    "print(recall)"
   ]
  },
  {
   "cell_type": "code",
   "execution_count": 7,
   "metadata": {},
   "outputs": [],
   "source": [
    "## save the model - this will be used in the deployment part to generate new predictions\n",
    "pickle.dump(model, open(r'.\\pkl\\GradientBoostingModel.sav', 'wb'))"
   ]
  }
 ],
 "metadata": {
  "kernelspec": {
   "display_name": "Python 3",
   "language": "python",
   "name": "python3"
  },
  "language_info": {
   "codemirror_mode": {
    "name": "ipython",
    "version": 3
   },
   "file_extension": ".py",
   "mimetype": "text/x-python",
   "name": "python",
   "nbconvert_exporter": "python",
   "pygments_lexer": "ipython3",
   "version": "3.6.2"
  }
 },
 "nbformat": 4,
 "nbformat_minor": 2
}
