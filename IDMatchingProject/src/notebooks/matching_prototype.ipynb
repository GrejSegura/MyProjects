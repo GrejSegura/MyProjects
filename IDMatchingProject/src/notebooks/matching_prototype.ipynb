{
 "cells": [
  {
   "cell_type": "markdown",
   "metadata": {},
   "source": [
    "### Matching Registrants between 2 years of data -- This is a prototype!"
   ]
  },
  {
   "cell_type": "code",
   "execution_count": null,
   "metadata": {},
   "outputs": [],
   "source": [
    "# -*- coding: utf-8 -*-\n",
    "\"\"\"\n",
    "Created on Mon Sep 30, 2018\n",
    "\n",
    "This is my python version of the guest record matching project.\n",
    "\n",
    "The application will match the guests record in different years and show versions.\n",
    "\n",
    "@author: Grejell\n",
    "\"\"\"\n",
    "import numpy as np\n",
    "import pandas as pd\n",
    "import os"
   ]
  },
  {
   "cell_type": "markdown",
   "metadata": {},
   "source": [
    "Set the directory"
   ]
  },
  {
   "cell_type": "code",
   "execution_count": null,
   "metadata": {},
   "outputs": [],
   "source": [
    "os.chdir('C:/Users/Grejell/AnacondaProjects/IDMatchingProject/')"
   ]
  },
  {
   "cell_type": "markdown",
   "metadata": {},
   "source": [
    "Load the 2 data sets to match"
   ]
  },
  {
   "cell_type": "code",
   "execution_count": null,
   "metadata": {},
   "outputs": [],
   "source": [
    "yearOneData = pd.read_csv(\"./dta/yearOne.csv\", engine='python')\n",
    "yearTwoData = pd.read_csv(\"./dta/yearTwo.csv\", engine='python')"
   ]
  },
  {
   "cell_type": "markdown",
   "metadata": {},
   "source": [
    "Retain the columns to be used for matching"
   ]
  },
  {
   "cell_type": "code",
   "execution_count": null,
   "metadata": {},
   "outputs": [],
   "source": [
    "yearOneData = yearOneData[[\"10DigitCardNumber\", \"FirstName\", \"Surname\", \"Position\", \"Email\", \"CompanyName\"]]\n",
    "yearTwoData = yearTwoData[[\"10DigitCardNumber\", \"FirstName\", \"Surname\", \"Position\", \"Email\", \"CompanyName\"]]"
   ]
  },
  {
   "cell_type": "markdown",
   "metadata": {},
   "source": [
    "This function removes non alpha numeric characters and set all the strings to lower case"
   ]
  },
  {
   "cell_type": "code",
   "execution_count": null,
   "metadata": {},
   "outputs": [],
   "source": [
    "def function_1(df):\n",
    "    columns = [\"FirstName\", \"Surname\", \"Position\", \"Email\", \"CompanyName\"]\n",
    "    for column in columns:\n",
    "        df[column] = df[column].str.replace(r'[^A-z0-9]', '').str.lower()\n",
    "    return df\n",
    "\n",
    "yearOneData = function_1(yearOneData)\n",
    "yearTwoData = function_1(yearTwoData)"
   ]
  },
  {
   "cell_type": "markdown",
   "metadata": {},
   "source": [
    "This function replaces blank cells to Nan and create a column that counts the number of Nan from First Name to Company Name"
   ]
  },
  {
   "cell_type": "code",
   "execution_count": null,
   "metadata": {},
   "outputs": [],
   "source": [
    "def function_2(df):\n",
    "    df.replace(r'^\\s*$', np.nan, regex=True, inplace = True)\n",
    "    df['countNan'] = df.loc[:,'FirstName':'CompanyName'].count(axis=1)\n",
    "    return df\n",
    "\n",
    "yearOneData = function_2(yearOneData)\n",
    "yearTwoData = function_2(yearTwoData)"
   ]
  },
  {
   "cell_type": "markdown",
   "metadata": {},
   "source": [
    "This function concatenates the columns for the reference of matching between the data frames"
   ]
  },
  {
   "cell_type": "code",
   "execution_count": null,
   "metadata": {},
   "outputs": [],
   "source": [
    "def function_3(df):\n",
    "    newCols = ['combo1', 'combo2', 'combo3', 'combo4', 'combo5', 'combo6', 'combo7', 'combo8', 'combo9', 'combo10', 'combo11']\n",
    "    for cols in newCols:\n",
    "        df.cols = pd.Series()\n",
    "    df['Email'] = df['Email'].str.replace(r'_', '')\n",
    "    df.loc[df.countNan > 2,'combo1' ] = df.FirstName+df.Surname+df.Position+df.Email+df.CompanyName\n",
    "    df.loc[pd.notnull(df.FirstName) & pd.notnull(df.Surname) & pd.notnull(df.Position) & pd.notnull(df.CompanyName), 'combo2' ] = df.FirstName+df.Surname+df.Position+df.CompanyName\n",
    "    df.loc[pd.notnull(df.FirstName) & pd.notnull(df.Surname) & pd.notnull(df.Email) & pd.notnull(df.CompanyName),'combo3' ] = df.FirstName+df.Surname+df.Email+df.CompanyName\n",
    "    df.loc[pd.notnull(df.FirstName) & pd.notnull(df.Surname) & pd.notnull(df.CompanyName), 'combo4' ] = df.FirstName+df.Surname+df.CompanyName\n",
    "    df.loc[pd.notnull(df.FirstName) & pd.notnull(df.Surname) & pd.notnull(df.Position), 'combo5' ] = df.FirstName+df.Surname+df.Position\n",
    "    df.loc[pd.notnull(df.Position) & pd.notnull(df.Email) & pd.notnull(df.CompanyName), 'combo6' ] = df.Position+df.Email+df.CompanyName\n",
    "    df.loc[pd.notnull(df.FirstName) & pd.notnull(df.Surname) & pd.notnull(df.Email), 'combo7' ] = df.FirstName+df.Surname+df.Email\n",
    "    df['combo8'] = df.Email\n",
    "    df.loc[pd.notnull(df.Position) & pd.notnull(df.Email), 'combo9' ] = df.Position+df.Email\n",
    "    df.loc[pd.notnull(df.FirstName) & pd.notnull(df.Surname), 'combo10'] = df.FirstName+df.Surname\n",
    "    df.loc[pd.notnull(df.Position) & pd.notnull(df.CompanyName), 'combo11'] = df.Position+df.CompanyName\n",
    "    return df\n",
    "\n",
    "yearOneData = function_3(yearOneData)\n",
    "yearTwoData = function_3(yearTwoData)"
   ]
  },
  {
   "cell_type": "markdown",
   "metadata": {},
   "source": [
    "This is a function that merges/matches data1 to data2 using the concatenation combos"
   ]
  },
  {
   "cell_type": "code",
   "execution_count": null,
   "metadata": {},
   "outputs": [],
   "source": [
    "def function_4(df1, df2):\n",
    "    data = df2[['10DigitCardNumber', 'FirstName', 'Surname', 'Position', 'Email', 'CompanyName']]    \n",
    "    combos = ['combo1', 'combo2', 'combo3', 'combo4', 'combo5', 'combo6', 'combo7', 'combo8', 'combo9', 'combo10', 'combo11']\n",
    "    for combo in combos:\n",
    "        mergeData = pd.merge(df2[['10DigitCardNumber', combo]], df1.loc[pd.notnull(df1[combo]),['10DigitCardNumber', combo]], how = 'left', on = combo)\n",
    "        mergeData = mergeData[mergeData['10DigitCardNumber_y'].notnull()]\n",
    "        #mergeData = mergeData.drop([combo], axis = 1)\n",
    "        mergeData = mergeData.rename(columns = {'10DigitCardNumber_x': '10DigitCardNumber', '10DigitCardNumber_y': combo+'10DigitCardNumber'})\n",
    "        data = pd.merge(data, mergeData, how = 'left', on = '10DigitCardNumber').drop_duplicates()\n",
    "    return data\n",
    "\n",
    "data = function_4(yearOneData, yearTwoData)"
   ]
  },
  {
   "cell_type": "code",
   "execution_count": null,
   "metadata": {},
   "outputs": [],
   "source": [
    "data.head()"
   ]
  },
  {
   "cell_type": "code",
   "execution_count": null,
   "metadata": {},
   "outputs": [],
   "source": [
    "data['match'] = pd.Series()\n",
    "data.loc[pd.notnull(data.combo1), 'match'] = data['combo110DigitCardNumber']\n",
    "data.loc[pd.isnull(data.combo1) & pd.notnull(data.combo2), 'match'] = data['combo210DigitCardNumber']\n",
    "data.loc[pd.isnull(data.combo1) & pd.isnull(data.combo2) & pd.notnull(data.combo3), 'match'] = data['combo310DigitCardNumber']\n",
    "data.loc[pd.isnull(data.combo1) & pd.isnull(data.combo2) & pd.isnull(data.combo3) & pd.notnull(data.combo4), 'match'] = data['combo410DigitCardNumber']\n",
    "data.loc[pd.isnull(data.combo1) & pd.isnull(data.combo2) & pd.isnull(data.combo3) & pd.isnull(data.combo4) & pd.notnull(data.combo5), 'match'] = data['combo510DigitCardNumber']\n",
    "data.loc[pd.isnull(data.combo1) & pd.isnull(data.combo2) & pd.isnull(data.combo3) & pd.isnull(data.combo4) & pd.isnull(data.combo5) & pd.notnull(data.combo6), 'match'] = data['combo610DigitCardNumber']\n",
    "data.loc[pd.isnull(data.combo1) & pd.isnull(data.combo2) & pd.isnull(data.combo3) & pd.isnull(data.combo4) & pd.isnull(data.combo5) & pd.isnull(data.combo6) & pd.notnull(data.combo7), 'match'] = data['combo710DigitCardNumber']\n",
    "data.loc[pd.isnull(data.combo1) & pd.isnull(data.combo2) & pd.isnull(data.combo3) & pd.isnull(data.combo4) & pd.isnull(data.combo5) & pd.isnull(data.combo6) & pd.isnull(data.combo7) & pd.notnull(data.combo8), 'match'] = data['combo810DigitCardNumber']\n",
    "data.loc[pd.isnull(data.combo1) & pd.isnull(data.combo2) & pd.isnull(data.combo3) & pd.isnull(data.combo4) & pd.isnull(data.combo5) & pd.isnull(data.combo6) & pd.isnull(data.combo7) & pd.isnull(data.combo8) & pd.notnull(data.combo9), 'match'] = data['combo910DigitCardNumber']\n",
    "data.loc[pd.isnull(data.combo1) & pd.isnull(data.combo2) & pd.isnull(data.combo3) & pd.isnull(data.combo4) & pd.isnull(data.combo5) & pd.isnull(data.combo6) & pd.isnull(data.combo7) & pd.isnull(data.combo8) & pd.isnull(data.combo9) & pd.notnull(data.combo10), 'match'] = data['combo1010DigitCardNumber']\n",
    "data.loc[pd.isnull(data.combo1) & pd.isnull(data.combo2) & pd.isnull(data.combo3) & pd.isnull(data.combo4) & pd.isnull(data.combo5) & pd.isnull(data.combo6) & pd.isnull(data.combo7) & pd.isnull(data.combo8) & pd.isnull(data.combo9) & pd.isnull(data.combo10) & pd.notnull(data.combo11), 'match'] = data['combo1110DigitCardNumber']"
   ]
  },
  {
   "cell_type": "code",
   "execution_count": null,
   "metadata": {},
   "outputs": [],
   "source": [
    "data"
   ]
  },
  {
   "cell_type": "markdown",
   "metadata": {},
   "source": [
    "Save data as matchedFile.csv"
   ]
  },
  {
   "cell_type": "code",
   "execution_count": null,
   "metadata": {},
   "outputs": [],
   "source": [
    "data = data[['10DigitCardNumber', \"FirstName\", \"Surname\", \"Position\", \"Email\", \"CompanyName\", 'match']]\n",
    "#data = pd.merge(yearTwoData, data, how = 'left', on = '10DigitCardNumber').drop_duplicates()"
   ]
  },
  {
   "cell_type": "code",
   "execution_count": null,
   "metadata": {},
   "outputs": [],
   "source": [
    "#dataFinal = data[['10 Digit Card Number', 'match']]\n",
    "data.to_csv(r'./dta/matchedFile.csv', index = False)"
   ]
  },
  {
   "cell_type": "code",
   "execution_count": null,
   "metadata": {},
   "outputs": [],
   "source": []
  }
 ],
 "metadata": {
  "kernelspec": {
   "display_name": "Python 3",
   "language": "python",
   "name": "python3"
  },
  "language_info": {
   "codemirror_mode": {
    "name": "ipython",
    "version": 3
   },
   "file_extension": ".py",
   "mimetype": "text/x-python",
   "name": "python",
   "nbconvert_exporter": "python",
   "pygments_lexer": "ipython3",
   "version": "3.6.2"
  }
 },
 "nbformat": 4,
 "nbformat_minor": 2
}
